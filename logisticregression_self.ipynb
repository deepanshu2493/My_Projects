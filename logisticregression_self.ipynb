{
 "cells": [
  {
   "cell_type": "markdown",
   "metadata": {},
   "source": [
    "# Logistic regression using 2 features"
   ]
  },
  {
   "cell_type": "code",
   "execution_count": 1,
   "metadata": {},
   "outputs": [],
   "source": [
    "import numpy as np\n",
    "import matplotlib.pyplot as plt\n",
    "%matplotlib inline"
   ]
  },
  {
   "cell_type": "code",
   "execution_count": 2,
   "metadata": {},
   "outputs": [
    {
     "name": "stderr",
     "output_type": "stream",
     "text": [
      "C:\\Users\\deepanshu\\Anaconda3\\lib\\site-packages\\ipykernel_launcher.py:5: RuntimeWarning: covariance is not symmetric positive-semidefinite.\n",
      "  \"\"\"\n",
      "C:\\Users\\deepanshu\\Anaconda3\\lib\\site-packages\\ipykernel_launcher.py:6: RuntimeWarning: covariance is not symmetric positive-semidefinite.\n",
      "  \n"
     ]
    },
    {
     "data": {
      "image/png": "[encoded data removed]",
      "text/plain": [
       "<Figure size 432x288 with 1 Axes>"
      ]
     },
     "metadata": {
      "needs_background": "light"
     },
     "output_type": "display_data"
    }
   ],
   "source": [
    "mean1=[1.2,0.5]\n",
    "cov1=[[1,0.5],[0.5,-1.2]]\n",
    "mean2=[4,6]\n",
    "cov2=[[1,0.5],[0.5,-1.2]]\n",
    "dist1=np.random.multivariate_normal(mean1,cov1,500)\n",
    "dist2=np.random.multivariate_normal(mean2,cov2,500)\n",
    "plt.xlim(-2,8)\n",
    "plt.ylim(-4,10)\n",
    "plt.scatter(dist1[:,0], dist1[:,1])\n",
    "plt.scatter(dist2[:,0], dist2[:,1])\n",
    "plt.show()\n"
   ]
  },
  {
   "cell_type": "code",
   "execution_count": 3,
   "metadata": {},
   "outputs": [
    {
     "name": "stdout",
     "output_type": "stream",
     "text": [
      "(500, 2) (500, 2)\n"
     ]
    }
   ],
   "source": [
    "print(dist1.shape,dist2.shape)"
   ]
  },
  {
   "cell_type": "code",
   "execution_count": 4,
   "metadata": {},
   "outputs": [
    {
     "name": "stdout",
     "output_type": "stream",
     "text": [
      "(1000, 3)\n"
     ]
    }
   ],
   "source": [
    "data=np.zeros([1000,3])\n",
    "data[:500,:2]=dist1\n",
    "data[500:,:2]=dist2\n",
    "data[500:,-1]=1\n",
    "print(data.shape)"
   ]
  },
  {
   "cell_type": "code",
   "execution_count": 5,
   "metadata": {},
   "outputs": [
    {
     "data": {
      "text/plain": [
       "array([[ 3.96148703,  5.70119187,  1.        ],\n",
       "       [ 5.51079843,  7.55263506,  1.        ],\n",
       "       [ 4.36446967,  5.92564763,  1.        ],\n",
       "       [ 1.09912391, -0.93746004,  0.        ],\n",
       "       [ 3.94213368,  3.60451963,  1.        ],\n",
       "       [ 3.32755839,  7.25150744,  1.        ],\n",
       "       [ 1.80586643,  0.02628975,  0.        ],\n",
       "       [-0.4027273 , -1.53043782,  0.        ],\n",
       "       [ 1.59205141,  2.47957919,  0.        ],\n",
       "       [ 3.73543461,  5.05964769,  1.        ]])"
      ]
     },
     "execution_count": 5,
     "metadata": {},
     "output_type": "execute_result"
    }
   ],
   "source": [
    "np.random.shuffle(data)\n",
    "data[:10]"
   ]
  },
  {
   "cell_type": "code",
   "execution_count": 6,
   "metadata": {},
   "outputs": [],
   "source": [
    "X=data[:,:2]\n",
    "y=data[:,-1]"
   ]
  },
  {
   "cell_type": "code",
   "execution_count": 7,
   "metadata": {},
   "outputs": [],
   "source": [
    "from sklearn.model_selection import train_test_split"
   ]
  },
  {
   "cell_type": "code",
   "execution_count": 8,
   "metadata": {},
   "outputs": [],
   "source": [
    "X_train,X_test,y_train,y_test=train_test_split(X,y,test_size=0.25)"
   ]
  },
  {
   "cell_type": "code",
   "execution_count": 9,
   "metadata": {},
   "outputs": [
    {
     "name": "stdout",
     "output_type": "stream",
     "text": [
      "(750, 2) (250, 2)\n",
      "(750,) (250,)\n"
     ]
    }
   ],
   "source": [
    "print(X_train.shape,X_test.shape)\n",
    "print(y_train.shape,y_test.shape)"
   ]
  },
  {
   "cell_type": "code",
   "execution_count": 10,
   "metadata": {},
   "outputs": [],
   "source": [
    "def sigmoid(z):\n",
    "    return 1/(1+np.exp(-1*z))"
   ]
  },
  {
   "cell_type": "code",
   "execution_count": 11,
   "metadata": {},
   "outputs": [],
   "source": [
    "def hypothesis(W,X,b):\n",
    "    h=(X*W).sum() + b\n",
    "    return sigmoid(h)"
   ]
  },
  {
   "cell_type": "code",
   "execution_count": 23,
   "metadata": {},
   "outputs": [],
   "source": [
    "def log_likelihood(X,W,b,y_true):\n",
    "    total=0.0\n",
    "    m=X.shape[0]\n",
    "    for i in range (m):\n",
    "        if y_true[i]==0:\n",
    "            total+=np.log(1-hypothesis(X[i],W,b))\n",
    "        else:\n",
    "            total+=np.log(hypothesis(X[i],W,b))\n",
    "    total/=m\n",
    "    return total"
   ]
  },
  {
   "cell_type": "code",
   "execution_count": 24,
   "metadata": {},
   "outputs": [],
   "source": [
    "def gradient_ascent(X,W,b,y_true, learning_rate=0.1):\n",
    "    gradb=0.0\n",
    "    gradW=np.zeros(2)\n",
    "    m=X.shape[0]\n",
    "    for i in range(m):\n",
    "        gradb+=(y_true[i] - hypothesis(X[i],W,b))*1\n",
    "        gradW+=(y_true[i] - hypothesis(X[i],W,b))*X[i]\n",
    "    \n",
    "    gradb/=m\n",
    "    gradW/=m\n",
    "    \n",
    "    W+=learning_rate*gradW\n",
    "    b+=learning_rate*gradb\n",
    "    logs=log_likelihood(X,W,b,y_true)\n",
    "    return W,b,logs\n",
    "    \n",
    "    \n"
   ]
  },
  {
   "cell_type": "code",
   "execution_count": 25,
   "metadata": {},
   "outputs": [
    {
     "name": "stdout",
     "output_type": "stream",
     "text": [
      "[-0.02939015  0.99620686]\n",
      "-2.471453194310445\n"
     ]
    }
   ],
   "source": [
    "W=np.array([0.5,0.5])\n",
    "b=4.2\n",
    "log_list=[]\n",
    "for i in range(400):\n",
    "    W,b,logs=gradient_ascent(X_train,W,b,y_train)\n",
    "    log_list.append(logs)\n",
    "print(W)\n",
    "print(b)\n"
   ]
  },
  {
   "cell_type": "code",
   "execution_count": 26,
   "metadata": {},
   "outputs": [
    {
     "data": {
      "image/png": "[encoded data removed]",
      "text/plain": [
       "<Figure size 432x288 with 1 Axes>"
      ]
     },
     "metadata": {
      "needs_background": "light"
     },
     "output_type": "display_data"
    }
   ],
   "source": [
    "plt.plot(log_list)\n",
    "plt.show()"
   ]
  },
  {
   "cell_type": "code",
   "execution_count": 27,
   "metadata": {},
   "outputs": [],
   "source": [
    "def predict(x_sample,W,b):\n",
    "    prob=hypothesis(x_sample,W,b)\n",
    "    if prob>0.5:\n",
    "        return 1\n",
    "    else:\n",
    "        return 0\n"
   ]
  },
  {
   "cell_type": "code",
   "execution_count": 28,
   "metadata": {},
   "outputs": [],
   "source": [
    "def score(X_test,y_test,W,b):\n",
    "    predicted=[]\n",
    "    m=X_test.shape[0]\n",
    "    for i in range(m):\n",
    "        p=predict(X_test[i],W,b)\n",
    "        predicted.append(p)\n",
    "    predicted=np.asarray(predicted)\n",
    "    return 100*(predicted==y_test).sum()/m"
   ]
  },
  {
   "cell_type": "code",
   "execution_count": 29,
   "metadata": {},
   "outputs": [
    {
     "data": {
      "text/plain": [
       "98.8"
      ]
     },
     "execution_count": 29,
     "metadata": {},
     "output_type": "execute_result"
    }
   ],
   "source": [
    "score(X_test,y_test,W,b)"
   ]
  },
  {
   "cell_type": "code",
   "execution_count": 34,
   "metadata": {},
   "outputs": [
    {
     "data": {
      "image/png": "[encoded data removed]",
      "text/plain": [
       "<Figure size 432x288 with 1 Axes>"
      ]
     },
     "metadata": {
      "needs_background": "light"
     },
     "output_type": "display_data"
    }
   ],
   "source": [
    "plt.scatter(dist1[:,0], dist1[:,1], color='g')\n",
    "plt.scatter(dist2[:,0], dist2[:,1], color='b')\n",
    "m=X_test.shape[0]\n",
    "for i in range(m):\n",
    "    x=X_test[i]\n",
    "    p=predict(x,W,b)\n",
    "    if p==0:\n",
    "        plt.plot(x[0],x[1], 'y.') \n",
    "    else:\n",
    "        plt.plot(x[0],x[1],'r.')\n",
    "plt.show()\n"
   ]
  },
  {
   "cell_type": "code",
   "execution_count": 39,
   "metadata": {},
   "outputs": [],
   "source": [
    "from sklearn.linear_model import LogisticRegression"
   ]
  },
  {
   "cell_type": "code",
   "execution_count": 40,
   "metadata": {},
   "outputs": [],
   "source": [
    "lr=LogisticRegression()"
   ]
  },
  {
   "cell_type": "code",
   "execution_count": 41,
   "metadata": {},
   "outputs": [
    {
     "name": "stderr",
     "output_type": "stream",
     "text": [
      "C:\\Users\\deepanshu\\Anaconda3\\lib\\site-packages\\sklearn\\linear_model\\logistic.py:433: FutureWarning: Default solver will be changed to 'lbfgs' in 0.22. Specify a solver to silence this warning.\n",
      "  FutureWarning)\n"
     ]
    },
    {
     "data": {
      "text/plain": [
       "LogisticRegression(C=1.0, class_weight=None, dual=False, fit_intercept=True,\n",
       "          intercept_scaling=1, max_iter=100, multi_class='warn',\n",
       "          n_jobs=None, penalty='l2', random_state=None, solver='warn',\n",
       "          tol=0.0001, verbose=0, warm_start=False)"
      ]
     },
     "execution_count": 41,
     "metadata": {},
     "output_type": "execute_result"
    }
   ],
   "source": [
    "lr.fit(X_train,y_train)"
   ]
  },
  {
   "cell_type": "code",
   "execution_count": 42,
   "metadata": {},
   "outputs": [
    {
     "data": {
      "text/plain": [
       "1.0"
      ]
     },
     "execution_count": 42,
     "metadata": {},
     "output_type": "execute_result"
    }
   ],
   "source": [
    "lr.score(X_test,y_test)"
   ]
  },
  {
   "cell_type": "code",
   "execution_count": null,
   "metadata": {},
   "outputs": [],
   "source": []
  },
  {
   "cell_type": "code",
   "execution_count": null,
   "metadata": {},
   "outputs": [],
   "source": []
  },
  {
   "cell_type": "markdown",
   "metadata": {},
   "source": [
    "# Logistic regression using 1 feature"
   ]
  },
  {
   "cell_type": "code",
   "execution_count": 82,
   "metadata": {},
   "outputs": [
    {
     "name": "stdout",
     "output_type": "stream",
     "text": [
      "[[1.         1.        ]\n",
      " [1.         1.        ]\n",
      " [1.         1.        ]\n",
      " [4.15372859 0.        ]\n",
      " [5.30058868 0.        ]\n",
      " [4.51928333 0.        ]\n",
      " [1.         1.        ]\n",
      " [1.         1.        ]\n",
      " [5.33616881 0.        ]\n",
      " [1.         1.        ]]\n"
     ]
    }
   ],
   "source": [
    "data=np.zeros((1000,2))\n",
    "data[:500,0]=np.random.uniform(low=0, high=6,size=(500,))\n",
    "data[500:,0]=np.random.uniform(low=4, high=10, size=(500,))\n",
    "data[500:-1]=1\n",
    "\n",
    "np.random.shuffle(data)\n",
    "print(data[:10])"
   ]
  },
  {
   "cell_type": "code",
   "execution_count": 83,
   "metadata": {},
   "outputs": [],
   "source": [
    "X=data[:,0]\n",
    "y=data[:,-1]"
   ]
  },
  {
   "cell_type": "code",
   "execution_count": 84,
   "metadata": {},
   "outputs": [],
   "source": [
    "from sklearn.model_selection import train_test_split"
   ]
  },
  {
   "cell_type": "code",
   "execution_count": 85,
   "metadata": {},
   "outputs": [],
   "source": [
    "X_train,X_test,y_train,y_test=train_test_split(X,y,test_size=0.25)"
   ]
  },
  {
   "cell_type": "code",
   "execution_count": 86,
   "metadata": {},
   "outputs": [
    {
     "name": "stdout",
     "output_type": "stream",
     "text": [
      "(750, 1) (250, 1)\n",
      "(750,) (250,)\n"
     ]
    }
   ],
   "source": [
    "X_train=X_train.reshape(750,1)\n",
    "X_test=X_test.reshape(250,1)\n",
    "\n",
    "print(X_train.shape,X_test.shape)\n",
    "print(y_train.shape,y_test.shape)"
   ]
  },
  {
   "cell_type": "code",
   "execution_count": null,
   "metadata": {},
   "outputs": [],
   "source": []
  },
  {
   "cell_type": "code",
   "execution_count": 87,
   "metadata": {},
   "outputs": [],
   "source": [
    "def sigmoid(z):\n",
    "    return 1/(1+np.exp(-1*z))"
   ]
  },
  {
   "cell_type": "code",
   "execution_count": 88,
   "metadata": {},
   "outputs": [],
   "source": [
    "def hypothesis(W,X,b):\n",
    "    h=(X*W).sum() + b\n",
    "    return sigmoid(h)"
   ]
  },
  {
   "cell_type": "code",
   "execution_count": null,
   "metadata": {},
   "outputs": [],
   "source": []
  },
  {
   "cell_type": "code",
   "execution_count": 89,
   "metadata": {},
   "outputs": [],
   "source": [
    "def log_likelihood(X,W,b,y_true):\n",
    "    total=0.0\n",
    "    m=X.shape[0]\n",
    "    for i in range (m):\n",
    "        if y_true[i]==0:\n",
    "            total+=np.log(1-hypothesis(X[i],W,b))\n",
    "        else:\n",
    "            total+=np.log(hypothesis(X[i],W,b))\n",
    "    total/=m\n",
    "    return total"
   ]
  },
  {
   "cell_type": "code",
   "execution_count": null,
   "metadata": {},
   "outputs": [],
   "source": []
  },
  {
   "cell_type": "code",
   "execution_count": 90,
   "metadata": {},
   "outputs": [],
   "source": [
    "def gradient_ascent(X,W,b,y_true, learning_rate=0.1):\n",
    "    gradb=0.0\n",
    "    gradW=0.0\n",
    "    m=X.shape[0]\n",
    "    for i in range(m):\n",
    "        gradb+=(y_true[i] - hypothesis(X[i],W,b))*1\n",
    "        gradW+=(y_true[i] - hypothesis(X[i],W,b))*X[i]\n",
    "    \n",
    "    gradb/=m\n",
    "    gradW/=m\n",
    "    \n",
    "    W+=learning_rate*gradW\n",
    "    b+=learning_rate*gradb\n",
    "    logs=log_likelihood(X,W,b,y_true)\n",
    "    return W,b,logs\n",
    "    \n",
    "    \n"
   ]
  },
  {
   "cell_type": "code",
   "execution_count": null,
   "metadata": {},
   "outputs": [],
   "source": []
  },
  {
   "cell_type": "code",
   "execution_count": 91,
   "metadata": {},
   "outputs": [
    {
     "name": "stdout",
     "output_type": "stream",
     "text": [
      "[-2.10044207]\n",
      "3.2359759952638023\n"
     ]
    }
   ],
   "source": [
    "W=np.array([0.5])\n",
    "b=4.2\n",
    "log_list=[]\n",
    "for i in range(400):\n",
    "    W,b,logs=gradient_ascent(X_train,W,b,y_train)\n",
    "    log_list.append(logs)\n",
    "print(W)\n",
    "print(b)\n"
   ]
  },
  {
   "cell_type": "code",
   "execution_count": null,
   "metadata": {},
   "outputs": [],
   "source": []
  },
  {
   "cell_type": "code",
   "execution_count": 92,
   "metadata": {},
   "outputs": [
    {
     "data": {
      "image/png": "[encoded data removed]",
      "text/plain": [
       "<Figure size 432x288 with 1 Axes>"
      ]
     },
     "metadata": {
      "needs_background": "light"
     },
     "output_type": "display_data"
    }
   ],
   "source": [
    "plt.plot(log_list)\n",
    "plt.show()"
   ]
  },
  {
   "cell_type": "code",
   "execution_count": null,
   "metadata": {},
   "outputs": [],
   "source": []
  },
  {
   "cell_type": "code",
   "execution_count": 93,
   "metadata": {},
   "outputs": [],
   "source": [
    "def predict(x_sample,W,b):\n",
    "    prob=hypothesis(x_sample,W,b)\n",
    "    if prob>0.5:\n",
    "        return 1\n",
    "    else:\n",
    "        return 0\n"
   ]
  },
  {
   "cell_type": "code",
   "execution_count": null,
   "metadata": {},
   "outputs": [],
   "source": []
  },
  {
   "cell_type": "code",
   "execution_count": 94,
   "metadata": {},
   "outputs": [],
   "source": [
    "def score(X_test,y_test,W,b):\n",
    "    predicted=[]\n",
    "    m=X_test.shape[0]\n",
    "    for i in range(m):\n",
    "        p=predict(X_test[i],W,b)\n",
    "        predicted.append(p)\n",
    "    predicted=np.asarray(predicted)\n",
    "    return 100*(predicted==y_test).sum()/m"
   ]
  },
  {
   "cell_type": "code",
   "execution_count": 95,
   "metadata": {},
   "outputs": [
    {
     "data": {
      "text/plain": [
       "86.4"
      ]
     },
     "execution_count": 95,
     "metadata": {},
     "output_type": "execute_result"
    }
   ],
   "source": [
    "score(X_test,y_test,W,b)"
   ]
  },
  {
   "cell_type": "code",
   "execution_count": null,
   "metadata": {},
   "outputs": [],
   "source": []
  },
  {
   "cell_type": "code",
   "execution_count": 96,
   "metadata": {},
   "outputs": [],
   "source": [
    "from sklearn.linear_model import LogisticRegression"
   ]
  },
  {
   "cell_type": "code",
   "execution_count": 97,
   "metadata": {},
   "outputs": [],
   "source": [
    "lrr=LogisticRegression()"
   ]
  },
  {
   "cell_type": "code",
   "execution_count": 98,
   "metadata": {},
   "outputs": [
    {
     "name": "stderr",
     "output_type": "stream",
     "text": [
      "C:\\Users\\deepanshu\\Anaconda3\\lib\\site-packages\\sklearn\\linear_model\\logistic.py:433: FutureWarning: Default solver will be changed to 'lbfgs' in 0.22. Specify a solver to silence this warning.\n",
      "  FutureWarning)\n"
     ]
    },
    {
     "data": {
      "text/plain": [
       "LogisticRegression(C=1.0, class_weight=None, dual=False, fit_intercept=True,\n",
       "          intercept_scaling=1, max_iter=100, multi_class='warn',\n",
       "          n_jobs=None, penalty='l2', random_state=None, solver='warn',\n",
       "          tol=0.0001, verbose=0, warm_start=False)"
      ]
     },
     "execution_count": 98,
     "metadata": {},
     "output_type": "execute_result"
    }
   ],
   "source": [
    "lrr.fit(X_train,y_train)"
   ]
  },
  {
   "cell_type": "code",
   "execution_count": 99,
   "metadata": {},
   "outputs": [
    {
     "data": {
      "text/plain": [
       "0.864"
      ]
     },
     "execution_count": 99,
     "metadata": {},
     "output_type": "execute_result"
    }
   ],
   "source": [
    "lrr.score(X_test,y_test)"
   ]
  },
  {
   "cell_type": "code",
   "execution_count": null,
   "metadata": {},
   "outputs": [],
   "source": []
  }
 ],
 "metadata": {
  "kernelspec": {
   "display_name": "Python 3",
   "language": "python",
   "name": "python3"
  },
  "language_info": {
   "codemirror_mode": {
    "name": "ipython",
    "version": 3
   },
   "file_extension": ".py",
   "mimetype": "text/x-python",
   "name": "python",
   "nbconvert_exporter": "python",
   "pygments_lexer": "ipython3",
   "version": "3.7.3"
  }
 },
 "nbformat": 4,
 "nbformat_minor": 2
}
