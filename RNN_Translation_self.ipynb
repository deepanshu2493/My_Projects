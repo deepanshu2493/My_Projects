{
  "nbformat": 4,
  "nbformat_minor": 0,
  "metadata": {
    "colab": {
      "name": "RNN-Translation_self.ipynb",
      "provenance": [],
      "collapsed_sections": []
    },
    "kernelspec": {
      "name": "python3",
      "display_name": "Python 3"
    },
    "accelerator": "GPU"
  },
  "cells": [
    {
      "cell_type": "markdown",
      "metadata": {
        "id": "REO2RvZ60ng3",
        "colab_type": "text"
      },
      "source": [
        "# Language Translation using RNN(Recurrent Neural Network)"
      ]
    },
    {
      "cell_type": "code",
      "metadata": {
        "id": "m75gUNkYlKLc",
        "colab_type": "code",
        "outputId": "fa2f34d7-9495-47ff-dbb7-0cb3bca7ea99",
        "colab": {
          "base_uri": "https://localhost:8080/",
          "height": 204
        }
      },
      "source": [
        "!wget http://www.manythings.org/anki/deu-eng.zip "
      ],
      "execution_count": 0,
      "outputs": [
        {
          "output_type": "stream",
          "text": [
            "--2019-11-22 19:52:50--  http://www.manythings.org/anki/deu-eng.zip\n",
            "Resolving www.manythings.org (www.manythings.org)... 104.24.109.196, 104.24.108.196, 2606:4700:30::6818:6dc4, ...\n",
            "Connecting to www.manythings.org (www.manythings.org)|104.24.109.196|:80... connected.\n",
            "HTTP request sent, awaiting response... 200 OK\n",
            "Length: 7612057 (7.3M) [application/zip]\n",
            "Saving to: ‘deu-eng.zip’\n",
            "\n",
            "\rdeu-eng.zip           0%[                    ]       0  --.-KB/s               \rdeu-eng.zip          22%[===>                ]   1.64M  8.06MB/s               \rdeu-eng.zip         100%[===================>]   7.26M  24.6MB/s    in 0.3s    \n",
            "\n",
            "2019-11-22 19:52:51 (24.6 MB/s) - ‘deu-eng.zip’ saved [7612057/7612057]\n",
            "\n"
          ],
          "name": "stdout"
        }
      ]
    },
    {
      "cell_type": "code",
      "metadata": {
        "id": "4iXusCicl5Sg",
        "colab_type": "code",
        "outputId": "fcd80a34-b105-46d8-d7f8-d8563603f1bf",
        "colab": {
          "base_uri": "https://localhost:8080/",
          "height": 68
        }
      },
      "source": [
        "!unzip deu-eng.zip"
      ],
      "execution_count": 0,
      "outputs": [
        {
          "output_type": "stream",
          "text": [
            "Archive:  deu-eng.zip\n",
            "  inflating: deu.txt                 \n",
            "  inflating: _about.txt              \n"
          ],
          "name": "stdout"
        }
      ]
    },
    {
      "cell_type": "code",
      "metadata": {
        "id": "aL4MQongl5QW",
        "colab_type": "code",
        "colab": {}
      },
      "source": [
        "file=open(\"deu.txt\", mode=\"rt\", encoding=\"utf-8\")\n",
        "data=file.read()"
      ],
      "execution_count": 0,
      "outputs": []
    },
    {
      "cell_type": "code",
      "metadata": {
        "id": "0nTWQROxmr1N",
        "colab_type": "code",
        "colab": {}
      },
      "source": [
        "def to_lines(text):\n",
        "  sent=text.strip().split(\"\\n\")\n",
        "  sent=[r.split(\"\\t\") for r in sent]\n",
        "  return sent              \n",
        "                "
      ],
      "execution_count": 0,
      "outputs": []
    },
    {
      "cell_type": "code",
      "metadata": {
        "id": "7_xI2DCUpuBq",
        "colab_type": "code",
        "outputId": "cb0de1ad-a3fe-4dd4-e1d3-1abb616a26eb",
        "colab": {
          "base_uri": "https://localhost:8080/",
          "height": 238
        }
      },
      "source": [
        "import numpy as np\n",
        "deu_eng=to_lines(data)\n",
        "print(deu_eng)\n",
        "deu_eng=np.asarray(deu_eng)\n",
        "deu_eng[10]"
      ],
      "execution_count": 0,
      "outputs": [
        {
          "output_type": "stream",
          "text": [
            "IOPub data rate exceeded.\n",
            "The notebook server will temporarily stop sending output\n",
            "to the client in order to avoid crashing it.\n",
            "To change this limit, set the config variable\n",
            "`--NotebookApp.iopub_data_rate_limit`.\n",
            "\n",
            "Current values:\n",
            "NotebookApp.iopub_data_rate_limit=1000000.0 (bytes/sec)\n",
            "NotebookApp.rate_limit_window=3.0 (secs)\n",
            "\n"
          ],
          "name": "stderr"
        },
        {
          "output_type": "execute_result",
          "data": {
            "text/plain": [
              "array(['Go on.', 'Mach weiter.',\n",
              "       'CC-BY 2.0 (France) Attribution: tatoeba.org #2230774 (CK) & #6625701 (Felixjp)'],\n",
              "      dtype='<U537')"
            ]
          },
          "metadata": {
            "tags": []
          },
          "execution_count": 6
        }
      ]
    },
    {
      "cell_type": "code",
      "metadata": {
        "id": "c8n6hzzDpuHm",
        "colab_type": "code",
        "outputId": "23f4e0a8-7116-4664-8caa-6ecd17202cc0",
        "colab": {
          "base_uri": "https://localhost:8080/",
          "height": 34
        }
      },
      "source": [
        "deu_eng[10].shape"
      ],
      "execution_count": 0,
      "outputs": [
        {
          "output_type": "execute_result",
          "data": {
            "text/plain": [
              "(3,)"
            ]
          },
          "metadata": {
            "tags": []
          },
          "execution_count": 7
        }
      ]
    },
    {
      "cell_type": "code",
      "metadata": {
        "id": "cz9l9EDApuAZ",
        "colab_type": "code",
        "colab": {}
      },
      "source": [
        "deu_eng=deu_eng[:50000,:]"
      ],
      "execution_count": 0,
      "outputs": []
    },
    {
      "cell_type": "code",
      "metadata": {
        "id": "krCnWfcVpt--",
        "colab_type": "code",
        "colab": {}
      },
      "source": [
        "import string\n",
        "deu_eng[:,0]=[s.translate(str.maketrans('','',string.punctuation)).lower() for s in deu_eng[:,0]]\n",
        "deu_eng[:,1]=[s.translate(str.maketrans('','',string.punctuation)).lower() for s in deu_eng[:,1]]"
      ],
      "execution_count": 0,
      "outputs": []
    },
    {
      "cell_type": "code",
      "metadata": {
        "id": "0hQyLJt8pt74",
        "colab_type": "code",
        "outputId": "75e5a02c-4932-4e8f-ca5c-1be7a7c34d6b",
        "colab": {
          "base_uri": "https://localhost:8080/",
          "height": 255
        }
      },
      "source": [
        "deu_eng"
      ],
      "execution_count": 0,
      "outputs": [
        {
          "output_type": "execute_result",
          "data": {
            "text/plain": [
              "array([['hi', 'hallo',\n",
              "        'CC-BY 2.0 (France) Attribution: tatoeba.org #538123 (CM) & #380701 (cburgmer)'],\n",
              "       ['hi', 'grüß gott',\n",
              "        'CC-BY 2.0 (France) Attribution: tatoeba.org #538123 (CM) & #659813 (Esperantostern)'],\n",
              "       ['run', 'lauf',\n",
              "        'CC-BY 2.0 (France) Attribution: tatoeba.org #906328 (papabear) & #941078 (Fingerhut)'],\n",
              "       ...,\n",
              "       ['i wholeheartedly agree', 'ich stimme rückhaltlos zu',\n",
              "        'CC-BY 2.0 (France) Attribution: tatoeba.org #1488273 (Spamster) & #1693172 (al_ex_an_der)'],\n",
              "       ['i will always love you', 'ich werde dich immer lieben',\n",
              "        'CC-BY 2.0 (France) Attribution: tatoeba.org #853146 (piksea) & #395302 (xtofu80)'],\n",
              "       ['i will be back by nine', 'um neun bin ich wieder zurück',\n",
              "        'CC-BY 2.0 (France) Attribution: tatoeba.org #72281 (CK) & #345033 (lilygilder)']],\n",
              "      dtype='<U537')"
            ]
          },
          "metadata": {
            "tags": []
          },
          "execution_count": 10
        }
      ]
    },
    {
      "cell_type": "code",
      "metadata": {
        "id": "duHkGAXjs45P",
        "colab_type": "code",
        "outputId": "72b80b23-1267-4e72-e86c-2230ff177b2d",
        "colab": {
          "base_uri": "https://localhost:8080/",
          "height": 281
        }
      },
      "source": [
        "import pandas as pd\n",
        "import matplotlib.pyplot as plt\n",
        "\n",
        "eng_l = []\n",
        "deu_l = []\n",
        "\n",
        "# populate the lists with sentence lengths\n",
        "for i in deu_eng[:,0]:\n",
        "      eng_l.append(len(i.split()))\n",
        "\n",
        "for i in deu_eng[:,1]:\n",
        "      deu_l.append(len(i.split()))\n",
        "\n",
        "length_df = pd.DataFrame({'eng':eng_l, 'deu':deu_l})\n",
        "\n",
        "length_df.hist(bins = 30)\n",
        "plt.show()"
      ],
      "execution_count": 0,
      "outputs": [
        {
          "output_type": "display_data",
          "data": {
            "image/png": "[encoded data removed]",
            "text/plain": [
              "<Figure size 432x288 with 2 Axes>"
            ]
          },
          "metadata": {
            "tags": []
          }
        }
      ]
    },
    {
      "cell_type": "code",
      "metadata": {
        "id": "WwUOxzXhyQGE",
        "colab_type": "code",
        "colab": {}
      },
      "source": [
        "from keras.preprocessing.text import Tokenizer\n",
        "\n",
        "def tokenization(lines):\n",
        "  tokenizer=Tokenizer()\n",
        "  tokenizer.fit_on_texts(lines)\n",
        "  return tokenizer\n"
      ],
      "execution_count": 0,
      "outputs": []
    },
    {
      "cell_type": "code",
      "metadata": {
        "id": "tfuxa0k0rBNO",
        "colab_type": "code",
        "outputId": "4b5e8214-d55d-4c26-bd0c-d4f9c4101bbb",
        "colab": {
          "base_uri": "https://localhost:8080/",
          "height": 51
        }
      },
      "source": [
        "eng_tokenizer=tokenization(deu_eng[:,0])\n",
        "deu_tokenizer=tokenization(deu_eng[:,1])\n",
        "\n",
        "eng_vocab_size=len(eng_tokenizer.word_index) +1\n",
        "deu_vocab_size=len(deu_tokenizer.word_index) +1\n",
        "\n",
        "print(len(eng_tokenizer.word_index) +1)\n",
        "print(len(deu_tokenizer.word_index) +1)"
      ],
      "execution_count": 0,
      "outputs": [
        {
          "output_type": "stream",
          "text": [
            "6361\n",
            "10597\n"
          ],
          "name": "stdout"
        }
      ]
    },
    {
      "cell_type": "code",
      "metadata": {
        "id": "I5LsUFKBrBiW",
        "colab_type": "code",
        "colab": {}
      },
      "source": [
        "from keras.preprocessing.sequence import pad_sequences\n",
        "\n",
        "def encode_sequence(tokenizer, length, lines):\n",
        "  seq=tokenizer.texts_to_sequences(lines)\n",
        "  seq=pad_sequences(seq, maxlen=length, padding='post')\n",
        "  return seq"
      ],
      "execution_count": 0,
      "outputs": []
    },
    {
      "cell_type": "code",
      "metadata": {
        "id": "QTKnjPYcrB4b",
        "colab_type": "code",
        "colab": {}
      },
      "source": [
        "from sklearn.model_selection import train_test_split\n",
        "train,test=train_test_split(deu_eng, test_size=0.2, random_state=12)\n"
      ],
      "execution_count": 0,
      "outputs": []
    },
    {
      "cell_type": "code",
      "metadata": {
        "id": "jF8BN0smrB2m",
        "colab_type": "code",
        "outputId": "13ed3e92-355e-4711-d78c-f3ebbf155ed0",
        "colab": {
          "base_uri": "https://localhost:8080/",
          "height": 34
        }
      },
      "source": [
        "train.shape"
      ],
      "execution_count": 0,
      "outputs": [
        {
          "output_type": "execute_result",
          "data": {
            "text/plain": [
              "(40000, 3)"
            ]
          },
          "metadata": {
            "tags": []
          },
          "execution_count": 24
        }
      ]
    },
    {
      "cell_type": "code",
      "metadata": {
        "id": "ybGzBQMSrBgo",
        "colab_type": "code",
        "outputId": "82ab254a-edbf-4c24-ece3-39bbb47740f7",
        "colab": {
          "base_uri": "https://localhost:8080/",
          "height": 51
        }
      },
      "source": [
        "trainX=encode_sequence(deu_tokenizer, 8, train[:,1])\n",
        "trainY=encode_sequence(eng_tokenizer, 8, train[:,0])\n",
        "\n",
        "testX=encode_sequence(deu_tokenizer, 8, test[:,1])\n",
        "testY=encode_sequence(eng_tokenizer, 8, test[:,0])\n",
        "\n",
        "print(trainX.shape,trainY.shape)\n",
        "print(testX.shape,testY.shape)\n",
        "\n",
        "\n"
      ],
      "execution_count": 0,
      "outputs": [
        {
          "output_type": "stream",
          "text": [
            "(40000, 8) (40000, 8)\n",
            "(10000, 8) (10000, 8)\n"
          ],
          "name": "stdout"
        }
      ]
    },
    {
      "cell_type": "code",
      "metadata": {
        "id": "xjInbEcs6RAB",
        "colab_type": "code",
        "colab": {}
      },
      "source": [
        "from keras.models import Sequential\n",
        "from keras.layers import Dense,LSTM,RepeatVector,Embedding\n",
        "from keras import optimizers"
      ],
      "execution_count": 0,
      "outputs": []
    },
    {
      "cell_type": "code",
      "metadata": {
        "id": "SwGdyw0x8QxF",
        "colab_type": "code",
        "outputId": "13aac4d6-0fb4-4a49-add5-c9491bc7f87e",
        "colab": {
          "base_uri": "https://localhost:8080/",
          "height": 71
        }
      },
      "source": [
        "model=Sequential()\n",
        "model.add(Embedding(deu_vocab_size, 512, input_length=8))\n",
        "model.add(LSTM(512))\n",
        "model.add(RepeatVector(8))\n",
        "model.add(LSTM(512, return_sequences=True))\n",
        "model.add(Dense(eng_vocab_size, activation=\"softmax\"))\n",
        "model.compile(loss=\"sparse_categorical_crossentropy\",optimizer=optimizers.RMSprop(lr=0.001) )"
      ],
      "execution_count": 0,
      "outputs": [
        {
          "output_type": "stream",
          "text": [
            "WARNING:tensorflow:From /usr/local/lib/python3.6/dist-packages/keras/backend/tensorflow_backend.py:3622: The name tf.log is deprecated. Please use tf.math.log instead.\n",
            "\n"
          ],
          "name": "stdout"
        }
      ]
    },
    {
      "cell_type": "code",
      "metadata": {
        "id": "xTrLbbHy8RG6",
        "colab_type": "code",
        "outputId": "0ab0eba1-a143-481f-98dd-36febb4b151d",
        "colab": {
          "base_uri": "https://localhost:8080/",
          "height": 1000
        }
      },
      "source": [
        "from keras.callbacks import ModelCheckpoint\n",
        "checkpoints=ModelCheckpoint(\"model.h1\", monitor=\"val_loss\", verbose=1, save_best_only=True,mode=\"min\")\n",
        "history=model.fit(trainX,trainY.reshape(40000,8,1), epochs=30, batch_size=512, validation_split=0.2, callbacks=[checkpoints], verbose=1)"
      ],
      "execution_count": 0,
      "outputs": [
        {
          "output_type": "stream",
          "text": [
            "WARNING:tensorflow:From /usr/local/lib/python3.6/dist-packages/tensorflow_core/python/ops/math_grad.py:1424: where (from tensorflow.python.ops.array_ops) is deprecated and will be removed in a future version.\n",
            "Instructions for updating:\n",
            "Use tf.where in 2.0, which has the same broadcast rule as np.where\n",
            "WARNING:tensorflow:From /usr/local/lib/python3.6/dist-packages/keras/backend/tensorflow_backend.py:1033: The name tf.assign_add is deprecated. Please use tf.compat.v1.assign_add instead.\n",
            "\n",
            "WARNING:tensorflow:From /usr/local/lib/python3.6/dist-packages/keras/backend/tensorflow_backend.py:1020: The name tf.assign is deprecated. Please use tf.compat.v1.assign instead.\n",
            "\n",
            "WARNING:tensorflow:From /usr/local/lib/python3.6/dist-packages/keras/backend/tensorflow_backend.py:3005: The name tf.Session is deprecated. Please use tf.compat.v1.Session instead.\n",
            "\n",
            "Train on 32000 samples, validate on 8000 samples\n",
            "Epoch 1/30\n",
            "WARNING:tensorflow:From /usr/local/lib/python3.6/dist-packages/keras/backend/tensorflow_backend.py:190: The name tf.get_default_session is deprecated. Please use tf.compat.v1.get_default_session instead.\n",
            "\n",
            "WARNING:tensorflow:From /usr/local/lib/python3.6/dist-packages/keras/backend/tensorflow_backend.py:197: The name tf.ConfigProto is deprecated. Please use tf.compat.v1.ConfigProto instead.\n",
            "\n",
            "WARNING:tensorflow:From /usr/local/lib/python3.6/dist-packages/keras/backend/tensorflow_backend.py:207: The name tf.global_variables is deprecated. Please use tf.compat.v1.global_variables instead.\n",
            "\n",
            "WARNING:tensorflow:From /usr/local/lib/python3.6/dist-packages/keras/backend/tensorflow_backend.py:216: The name tf.is_variable_initialized is deprecated. Please use tf.compat.v1.is_variable_initialized instead.\n",
            "\n",
            "WARNING:tensorflow:From /usr/local/lib/python3.6/dist-packages/keras/backend/tensorflow_backend.py:223: The name tf.variables_initializer is deprecated. Please use tf.compat.v1.variables_initializer instead.\n",
            "\n",
            "32000/32000 [==============================] - 21s 656us/step - loss: 3.3951 - val_loss: 2.9894\n",
            "\n",
            "Epoch 00001: val_loss improved from inf to 2.98938, saving model to model.h1\n",
            "Epoch 2/30\n",
            "32000/32000 [==============================] - 15s 454us/step - loss: 2.8681 - val_loss: 2.8641\n",
            "\n",
            "Epoch 00002: val_loss improved from 2.98938 to 2.86410, saving model to model.h1\n",
            "Epoch 3/30\n",
            "32000/32000 [==============================] - 15s 455us/step - loss: 2.6997 - val_loss: 2.7186\n",
            "\n",
            "Epoch 00003: val_loss improved from 2.86410 to 2.71865, saving model to model.h1\n",
            "Epoch 4/30\n",
            "32000/32000 [==============================] - 15s 458us/step - loss: 2.5701 - val_loss: 2.6100\n",
            "\n",
            "Epoch 00004: val_loss improved from 2.71865 to 2.60997, saving model to model.h1\n",
            "Epoch 5/30\n",
            "32000/32000 [==============================] - 15s 458us/step - loss: 2.4503 - val_loss: 2.4893\n",
            "\n",
            "Epoch 00005: val_loss improved from 2.60997 to 2.48927, saving model to model.h1\n",
            "Epoch 6/30\n",
            "32000/32000 [==============================] - 15s 458us/step - loss: 2.3203 - val_loss: 2.4632\n",
            "\n",
            "Epoch 00006: val_loss improved from 2.48927 to 2.46315, saving model to model.h1\n",
            "Epoch 7/30\n",
            "32000/32000 [==============================] - 15s 457us/step - loss: 2.2150 - val_loss: 2.3337\n",
            "\n",
            "Epoch 00007: val_loss improved from 2.46315 to 2.33370, saving model to model.h1\n",
            "Epoch 8/30\n",
            "32000/32000 [==============================] - 15s 457us/step - loss: 2.1179 - val_loss: 2.2496\n",
            "\n",
            "Epoch 00008: val_loss improved from 2.33370 to 2.24956, saving model to model.h1\n",
            "Epoch 9/30\n",
            "32000/32000 [==============================] - 15s 456us/step - loss: 2.0111 - val_loss: 2.1701\n",
            "\n",
            "Epoch 00009: val_loss improved from 2.24956 to 2.17006, saving model to model.h1\n",
            "Epoch 10/30\n",
            "32000/32000 [==============================] - 15s 457us/step - loss: 1.9178 - val_loss: 2.0989\n",
            "\n",
            "Epoch 00010: val_loss improved from 2.17006 to 2.09894, saving model to model.h1\n",
            "Epoch 11/30\n",
            "32000/32000 [==============================] - 15s 457us/step - loss: 1.8221 - val_loss: 2.0516\n",
            "\n",
            "Epoch 00011: val_loss improved from 2.09894 to 2.05157, saving model to model.h1\n",
            "Epoch 12/30\n",
            "32000/32000 [==============================] - 15s 457us/step - loss: 1.7399 - val_loss: 2.0163\n",
            "\n",
            "Epoch 00012: val_loss improved from 2.05157 to 2.01633, saving model to model.h1\n",
            "Epoch 13/30\n",
            "32000/32000 [==============================] - 15s 456us/step - loss: 1.6579 - val_loss: 1.9752\n",
            "\n",
            "Epoch 00013: val_loss improved from 2.01633 to 1.97523, saving model to model.h1\n",
            "Epoch 14/30\n",
            "32000/32000 [==============================] - 15s 454us/step - loss: 1.5786 - val_loss: 1.8972\n",
            "\n",
            "Epoch 00014: val_loss improved from 1.97523 to 1.89725, saving model to model.h1\n",
            "Epoch 15/30\n",
            "32000/32000 [==============================] - 15s 456us/step - loss: 1.5004 - val_loss: 1.8636\n",
            "\n",
            "Epoch 00015: val_loss improved from 1.89725 to 1.86356, saving model to model.h1\n",
            "Epoch 16/30\n",
            "32000/32000 [==============================] - 14s 453us/step - loss: 1.4274 - val_loss: 1.8212\n",
            "\n",
            "Epoch 00016: val_loss improved from 1.86356 to 1.82125, saving model to model.h1\n",
            "Epoch 17/30\n",
            "32000/32000 [==============================] - 14s 452us/step - loss: 1.3516 - val_loss: 1.8065\n",
            "\n",
            "Epoch 00017: val_loss improved from 1.82125 to 1.80646, saving model to model.h1\n",
            "Epoch 18/30\n",
            "32000/32000 [==============================] - 14s 451us/step - loss: 1.2846 - val_loss: 1.7512\n",
            "\n",
            "Epoch 00018: val_loss improved from 1.80646 to 1.75119, saving model to model.h1\n",
            "Epoch 19/30\n",
            "32000/32000 [==============================] - 14s 452us/step - loss: 1.2141 - val_loss: 1.7358\n",
            "\n",
            "Epoch 00019: val_loss improved from 1.75119 to 1.73579, saving model to model.h1\n",
            "Epoch 20/30\n",
            "32000/32000 [==============================] - 14s 453us/step - loss: 1.1476 - val_loss: 1.6979\n",
            "\n",
            "Epoch 00020: val_loss improved from 1.73579 to 1.69793, saving model to model.h1\n",
            "Epoch 21/30\n",
            "32000/32000 [==============================] - 15s 453us/step - loss: 1.0839 - val_loss: 1.6737\n",
            "\n",
            "Epoch 00021: val_loss improved from 1.69793 to 1.67365, saving model to model.h1\n",
            "Epoch 22/30\n",
            "32000/32000 [==============================] - 15s 454us/step - loss: 1.0214 - val_loss: 1.6395\n",
            "\n",
            "Epoch 00022: val_loss improved from 1.67365 to 1.63950, saving model to model.h1\n",
            "Epoch 23/30\n",
            "32000/32000 [==============================] - 15s 454us/step - loss: 0.9604 - val_loss: 1.6322\n",
            "\n",
            "Epoch 00023: val_loss improved from 1.63950 to 1.63216, saving model to model.h1\n",
            "Epoch 24/30\n",
            "32000/32000 [==============================] - 15s 456us/step - loss: 0.9020 - val_loss: 1.6150\n",
            "\n",
            "Epoch 00024: val_loss improved from 1.63216 to 1.61496, saving model to model.h1\n",
            "Epoch 25/30\n",
            "32000/32000 [==============================] - 15s 455us/step - loss: 0.8452 - val_loss: 1.5877\n",
            "\n",
            "Epoch 00025: val_loss improved from 1.61496 to 1.58772, saving model to model.h1\n",
            "Epoch 26/30\n",
            "32000/32000 [==============================] - 15s 456us/step - loss: 0.7910 - val_loss: 1.5719\n",
            "\n",
            "Epoch 00026: val_loss improved from 1.58772 to 1.57193, saving model to model.h1\n",
            "Epoch 27/30\n",
            "32000/32000 [==============================] - 15s 454us/step - loss: 0.7398 - val_loss: 1.5599\n",
            "\n",
            "Epoch 00027: val_loss improved from 1.57193 to 1.55985, saving model to model.h1\n",
            "Epoch 28/30\n",
            "32000/32000 [==============================] - 15s 454us/step - loss: 0.6888 - val_loss: 1.5594\n",
            "\n",
            "Epoch 00028: val_loss improved from 1.55985 to 1.55939, saving model to model.h1\n",
            "Epoch 29/30\n",
            "32000/32000 [==============================] - 15s 455us/step - loss: 0.6403 - val_loss: 1.5523\n",
            "\n",
            "Epoch 00029: val_loss improved from 1.55939 to 1.55225, saving model to model.h1\n",
            "Epoch 30/30\n",
            "32000/32000 [==============================] - 15s 454us/step - loss: 0.5954 - val_loss: 1.5234\n",
            "\n",
            "Epoch 00030: val_loss improved from 1.55225 to 1.52338, saving model to model.h1\n"
          ],
          "name": "stdout"
        }
      ]
    },
    {
      "cell_type": "code",
      "metadata": {
        "id": "VJtItJc38RFN",
        "colab_type": "code",
        "colab": {}
      },
      "source": [
        "from keras.models import load_model\n",
        "model=load_model(\"model.h1\")\n",
        "preds=model.predict_classes(testX)"
      ],
      "execution_count": 0,
      "outputs": []
    },
    {
      "cell_type": "code",
      "metadata": {
        "id": "Hf8d_l-I8QvX",
        "colab_type": "code",
        "outputId": "5e6bc76a-7650-4f90-9a7e-cb1031c59421",
        "colab": {
          "base_uri": "https://localhost:8080/",
          "height": 136
        }
      },
      "source": [
        "print(preds)"
      ],
      "execution_count": 0,
      "outputs": [
        {
          "output_type": "stream",
          "text": [
            "[[  3 102   7 ...   0   0   0]\n",
            " [  2 157 680 ...   0   0   0]\n",
            " [ 12 356 356 ...   0   0   0]\n",
            " ...\n",
            " [  1   4   5 ...   0   0   0]\n",
            " [ 54  18   3 ...   0   0   0]\n",
            " [ 39  27  20 ...   0   0   0]]\n"
          ],
          "name": "stdout"
        }
      ]
    },
    {
      "cell_type": "code",
      "metadata": {
        "id": "QZsWgZx48QsY",
        "colab_type": "code",
        "outputId": "b9db3065-9cb3-4e12-b13e-ebb1d442bd6a",
        "colab": {
          "base_uri": "https://localhost:8080/",
          "height": 267
        }
      },
      "source": [
        "plt.plot(history.history['loss'])\n",
        "plt.plot(history.history['val_loss'])\n",
        "plt.legend(['train','validation'])\n",
        "plt.show()"
      ],
      "execution_count": 0,
      "outputs": [
        {
          "output_type": "display_data",
          "data": {
            "image/png": "[encoded data removed]",
            "text/plain": [
              "<Figure size 432x288 with 1 Axes>"
            ]
          },
          "metadata": {
            "tags": []
          }
        }
      ]
    },
    {
      "cell_type": "code",
      "metadata": {
        "id": "SgXEZro08QpL",
        "colab_type": "code",
        "colab": {}
      },
      "source": [
        "def get_word(n, tokenizer):\n",
        "      for word, index in tokenizer.word_index.items():\n",
        "          if index == n:\n",
        "              return word\n",
        "      return None"
      ],
      "execution_count": 0,
      "outputs": []
    },
    {
      "cell_type": "code",
      "metadata": {
        "id": "a4EVJGQjDvs1",
        "colab_type": "code",
        "colab": {}
      },
      "source": [
        "preds_text = []\n",
        "for i in preds:\n",
        "       temp = []\n",
        "       for j in range(len(i)):\n",
        "            t = get_word(i[j], eng_tokenizer)\n",
        "            if j > 0:\n",
        "                if (t == get_word(i[j-1], eng_tokenizer)) or (t == None):\n",
        "                     temp.append('')\n",
        "                else:\n",
        "                     temp.append(t)\n",
        "            else:\n",
        "                   if(t == None):\n",
        "                          temp.append('')\n",
        "                   else:\n",
        "                          temp.append(t) \n",
        "\n",
        "       preds_text.append(' '.join(temp))"
      ],
      "execution_count": 0,
      "outputs": []
    },
    {
      "cell_type": "code",
      "metadata": {
        "id": "UMSwksjbD-h8",
        "colab_type": "code",
        "colab": {}
      },
      "source": [
        "pred_df = pd.DataFrame({'actual' : test[:,0], 'predicted' : preds_text})"
      ],
      "execution_count": 0,
      "outputs": []
    },
    {
      "cell_type": "code",
      "metadata": {
        "id": "vUfoA7XTD-05",
        "colab_type": "code",
        "outputId": "1976cbe8-8ed5-4e77-8b9c-fb2e0c6dfdb6",
        "colab": {
          "base_uri": "https://localhost:8080/",
          "height": 514
        }
      },
      "source": [
        "# print 15 rows randomly\n",
        "pred_df.sample(15)"
      ],
      "execution_count": 0,
      "outputs": [
        {
          "output_type": "execute_result",
          "data": {
            "text/html": [
              "<div>\n",
              "<style scoped>\n",
              "    .dataframe tbody tr th:only-of-type {\n",
              "        vertical-align: middle;\n",
              "    }\n",
              "\n",
              "    .dataframe tbody tr th {\n",
              "        vertical-align: top;\n",
              "    }\n",
              "\n",
              "    .dataframe thead th {\n",
              "        text-align: right;\n",
              "    }\n",
              "</style>\n",
              "<table border=\"1\" class=\"dataframe\">\n",
              "  <thead>\n",
              "    <tr style=\"text-align: right;\">\n",
              "      <th></th>\n",
              "      <th>actual</th>\n",
              "      <th>predicted</th>\n",
              "    </tr>\n",
              "  </thead>\n",
              "  <tbody>\n",
              "    <tr>\n",
              "      <th>5261</th>\n",
              "      <td>did you love tom</td>\n",
              "      <td>did you see tom</td>\n",
              "    </tr>\n",
              "    <tr>\n",
              "      <th>39</th>\n",
              "      <td>he lives in yokohama</td>\n",
              "      <td>he lives in kyoto</td>\n",
              "    </tr>\n",
              "    <tr>\n",
              "      <th>5672</th>\n",
              "      <td>im good at this</td>\n",
              "      <td>im good at this</td>\n",
              "    </tr>\n",
              "    <tr>\n",
              "      <th>9456</th>\n",
              "      <td>when do you need it</td>\n",
              "      <td>when did you need it</td>\n",
              "    </tr>\n",
              "    <tr>\n",
              "      <th>5826</th>\n",
              "      <td>this hat cost me 10</td>\n",
              "      <td>this hat  my me</td>\n",
              "    </tr>\n",
              "    <tr>\n",
              "      <th>8710</th>\n",
              "      <td>tom is depraved</td>\n",
              "      <td>tom is skittish</td>\n",
              "    </tr>\n",
              "    <tr>\n",
              "      <th>2283</th>\n",
              "      <td>tom was special</td>\n",
              "      <td>tom was a</td>\n",
              "    </tr>\n",
              "    <tr>\n",
              "      <th>1977</th>\n",
              "      <td>ive offended you</td>\n",
              "      <td>i watched you</td>\n",
              "    </tr>\n",
              "    <tr>\n",
              "      <th>8796</th>\n",
              "      <td>dont go yet</td>\n",
              "      <td>dont be alone</td>\n",
              "    </tr>\n",
              "    <tr>\n",
              "      <th>7894</th>\n",
              "      <td>everybody loves my cat</td>\n",
              "      <td>she took my hat</td>\n",
              "    </tr>\n",
              "    <tr>\n",
              "      <th>9494</th>\n",
              "      <td>i dont have a car</td>\n",
              "      <td>i have  a car</td>\n",
              "    </tr>\n",
              "    <tr>\n",
              "      <th>6415</th>\n",
              "      <td>i came looking for you</td>\n",
              "      <td>i came looking for you</td>\n",
              "    </tr>\n",
              "    <tr>\n",
              "      <th>6368</th>\n",
              "      <td>answer me</td>\n",
              "      <td>have me</td>\n",
              "    </tr>\n",
              "    <tr>\n",
              "      <th>3356</th>\n",
              "      <td>theres no food left</td>\n",
              "      <td>its time too to try</td>\n",
              "    </tr>\n",
              "    <tr>\n",
              "      <th>2008</th>\n",
              "      <td>tom removed his socks</td>\n",
              "      <td>tom put his</td>\n",
              "    </tr>\n",
              "  </tbody>\n",
              "</table>\n",
              "</div>"
            ],
            "text/plain": [
              "                      actual                  predicted\n",
              "5261        did you love tom        did you see tom    \n",
              "39      he lives in yokohama      he lives in kyoto    \n",
              "5672         im good at this        im good at this    \n",
              "9456     when do you need it    when did you need it   \n",
              "5826     this hat cost me 10         this hat  my me   \n",
              "8710         tom is depraved       tom is skittish     \n",
              "2283         tom was special             tom was a     \n",
              "1977        ive offended you         i watched you     \n",
              "8796             dont go yet         dont be alone     \n",
              "7894  everybody loves my cat        she took my hat    \n",
              "9494       i dont have a car           i have  a car   \n",
              "6415  i came looking for you  i came looking for you   \n",
              "6368               answer me              have me      \n",
              "3356     theres no food left     its time too to try   \n",
              "2008   tom removed his socks           tom put his     "
            ]
          },
          "metadata": {
            "tags": []
          },
          "execution_count": 41
        }
      ]
    }
  ]
}