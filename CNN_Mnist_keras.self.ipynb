{
 "cells": [
  {
   "cell_type": "markdown",
   "metadata": {},
   "source": [
    "# CNN on MNIST dataset "
   ]
  },
  {
   "cell_type": "code",
   "execution_count": 5,
   "metadata": {},
   "outputs": [],
   "source": [
    "import numpy as np\n",
    "import matplotlib.pyplot as plt\n",
    "%matplotlib inline"
   ]
  },
  {
   "cell_type": "code",
   "execution_count": null,
   "metadata": {},
   "outputs": [],
   "source": []
  },
  {
   "cell_type": "code",
   "execution_count": 6,
   "metadata": {},
   "outputs": [],
   "source": [
    "from keras.datasets import mnist"
   ]
  },
  {
   "cell_type": "code",
   "execution_count": 7,
   "metadata": {},
   "outputs": [],
   "source": [
    "(x_train,y_train) , (x_test,y_test) = mnist.load_data()"
   ]
  },
  {
   "cell_type": "code",
   "execution_count": 8,
   "metadata": {},
   "outputs": [
    {
     "data": {
      "text/plain": [
       "(60000, 28, 28)"
      ]
     },
     "execution_count": 8,
     "metadata": {},
     "output_type": "execute_result"
    }
   ],
   "source": [
    "x_train.shape"
   ]
  },
  {
   "cell_type": "code",
   "execution_count": 16,
   "metadata": {},
   "outputs": [],
   "source": [
    "x_train = x_train.reshape(60000,28,28,1)\n",
    "x_test = x_test.reshape(10000,28,28,1)"
   ]
  },
  {
   "cell_type": "code",
   "execution_count": 17,
   "metadata": {},
   "outputs": [
    {
     "name": "stdout",
     "output_type": "stream",
     "text": [
      "(60000, 28, 28, 1)\n"
     ]
    }
   ],
   "source": [
    "print(x_train.shape)"
   ]
  },
  {
   "cell_type": "code",
   "execution_count": 10,
   "metadata": {},
   "outputs": [],
   "source": [
    "x_train=x_train/255\n",
    "y_train=y_train/255"
   ]
  },
  {
   "cell_type": "code",
   "execution_count": 24,
   "metadata": {},
   "outputs": [],
   "source": [
    "import keras\n",
    "Y_train= keras.utils.to_categorical(y_train, 10)\n",
    "Y_test= keras.utils.to_categorical(y_test, 10)"
   ]
  },
  {
   "cell_type": "code",
   "execution_count": 25,
   "metadata": {},
   "outputs": [
    {
     "name": "stdout",
     "output_type": "stream",
     "text": [
      "(60000, 10)\n"
     ]
    }
   ],
   "source": [
    "print(Y_train.shape)"
   ]
  },
  {
   "cell_type": "code",
   "execution_count": 26,
   "metadata": {},
   "outputs": [],
   "source": [
    "from keras.layers import Dense,Conv2D,MaxPooling2D,Flatten\n",
    "from keras.models import Sequential"
   ]
  },
  {
   "cell_type": "code",
   "execution_count": 27,
   "metadata": {},
   "outputs": [
    {
     "name": "stdout",
     "output_type": "stream",
     "text": [
      "Model: \"sequential_4\"\n",
      "_________________________________________________________________\n",
      "Layer (type)                 Output Shape              Param #   \n",
      "=================================================================\n",
      "conv2d_10 (Conv2D)           (None, 26, 26, 32)        320       \n",
      "_________________________________________________________________\n",
      "max_pooling2d_10 (MaxPooling (None, 13, 13, 32)        0         \n",
      "_________________________________________________________________\n",
      "conv2d_11 (Conv2D)           (None, 11, 11, 64)        18496     \n",
      "_________________________________________________________________\n",
      "max_pooling2d_11 (MaxPooling (None, 5, 5, 64)          0         \n",
      "_________________________________________________________________\n",
      "conv2d_12 (Conv2D)           (None, 3, 3, 128)         73856     \n",
      "_________________________________________________________________\n",
      "max_pooling2d_12 (MaxPooling (None, 1, 1, 128)         0         \n",
      "_________________________________________________________________\n",
      "flatten_4 (Flatten)          (None, 128)               0         \n",
      "_________________________________________________________________\n",
      "dense_7 (Dense)              (None, 100)               12900     \n",
      "_________________________________________________________________\n",
      "dense_8 (Dense)              (None, 10)                1010      \n",
      "=================================================================\n",
      "Total params: 106,582\n",
      "Trainable params: 106,582\n",
      "Non-trainable params: 0\n",
      "_________________________________________________________________\n"
     ]
    },
    {
     "name": "stderr",
     "output_type": "stream",
     "text": [
      "C:\\Users\\deepanshu\\Anaconda3\\lib\\site-packages\\ipykernel_launcher.py:2: UserWarning: Update your `Conv2D` call to the Keras 2 API: `Conv2D(32, (3, 3), activation=\"relu\", input_shape=(28, 28, 1...)`\n",
      "  \n",
      "C:\\Users\\deepanshu\\Anaconda3\\lib\\site-packages\\ipykernel_launcher.py:6: UserWarning: Update your `Conv2D` call to the Keras 2 API: `Conv2D(64, (3, 3), activation=\"relu\")`\n",
      "  \n",
      "C:\\Users\\deepanshu\\Anaconda3\\lib\\site-packages\\ipykernel_launcher.py:10: UserWarning: Update your `Conv2D` call to the Keras 2 API: `Conv2D(128, (3, 3), activation=\"relu\")`\n",
      "  # Remove the CWD from sys.path while we load stuff.\n"
     ]
    }
   ],
   "source": [
    "model=Sequential()\n",
    "model.add(Conv2D(32,3,3, activation='relu', input_shape=(28,28,1)))\n",
    "#model.add(Activation('relu'))\n",
    "model.add((MaxPooling2D(pool_size=(2, 2))))\n",
    "\n",
    "model.add(Conv2D(64,3,3, activation='relu'))\n",
    "#model.add(Activation('relu'))\n",
    "model.add((MaxPooling2D(pool_size=(2, 2))))\n",
    "\n",
    "model.add(Conv2D(128,3,3, activation='relu'))\n",
    "#model.add(Activation('relu'))\n",
    "model.add((MaxPooling2D(pool_size=(2, 2))))\n",
    "\n",
    "model.add(Flatten())\n",
    "\n",
    "model.add(Dense(100, activation='relu'))\n",
    "#model.add(Activation('relu'))\n",
    "\n",
    "model.add(Dense(10, activation='softmax'))\n",
    "#model.add(Activation('softmax'))\n",
    "\n",
    "model.summary()\n"
   ]
  },
  {
   "cell_type": "code",
   "execution_count": 28,
   "metadata": {},
   "outputs": [],
   "source": [
    "model.compile(optimizer='adam', loss='categorical_crossentropy', metrics=['accuracy'])"
   ]
  },
  {
   "cell_type": "code",
   "execution_count": 29,
   "metadata": {},
   "outputs": [
    {
     "name": "stderr",
     "output_type": "stream",
     "text": [
      "C:\\Users\\deepanshu\\Anaconda3\\lib\\site-packages\\ipykernel_launcher.py:1: UserWarning: The `nb_epoch` argument in `fit` has been renamed `epochs`.\n",
      "  \"\"\"Entry point for launching an IPython kernel.\n"
     ]
    },
    {
     "name": "stdout",
     "output_type": "stream",
     "text": [
      "Train on 60000 samples, validate on 10000 samples\n",
      "Epoch 1/20\n",
      " - 87s - loss: 0.0020 - accuracy: 1.0000 - val_loss: 12543.9818 - val_accuracy: 0.0980\n",
      "Epoch 2/20\n",
      " - 85s - loss: 0.0000e+00 - accuracy: 1.0000 - val_loss: 12543.9785 - val_accuracy: 0.0980\n",
      "Epoch 3/20\n",
      " - 86s - loss: 0.0000e+00 - accuracy: 1.0000 - val_loss: 12543.9753 - val_accuracy: 0.0980\n",
      "Epoch 4/20\n",
      " - 78s - loss: 0.0000e+00 - accuracy: 1.0000 - val_loss: 12543.9738 - val_accuracy: 0.0980\n",
      "Epoch 5/20\n",
      " - 74s - loss: 0.0000e+00 - accuracy: 1.0000 - val_loss: 12543.9991 - val_accuracy: 0.0980\n",
      "Epoch 6/20\n",
      " - 81s - loss: 0.0000e+00 - accuracy: 1.0000 - val_loss: 12544.0666 - val_accuracy: 0.0980\n",
      "Epoch 7/20\n",
      " - 80s - loss: 0.0000e+00 - accuracy: 1.0000 - val_loss: 12544.1495 - val_accuracy: 0.0980\n",
      "Epoch 8/20\n",
      " - 76s - loss: 0.0000e+00 - accuracy: 1.0000 - val_loss: 12544.2213 - val_accuracy: 0.0980\n",
      "Epoch 9/20\n",
      " - 75s - loss: 0.0000e+00 - accuracy: 1.0000 - val_loss: 12544.2878 - val_accuracy: 0.0980\n",
      "Epoch 10/20\n",
      " - 76s - loss: 0.0000e+00 - accuracy: 1.0000 - val_loss: 12544.3548 - val_accuracy: 0.0980\n",
      "Epoch 11/20\n",
      " - 73s - loss: 0.0000e+00 - accuracy: 1.0000 - val_loss: 12544.4156 - val_accuracy: 0.0980\n",
      "Epoch 12/20\n",
      " - 73s - loss: 0.0000e+00 - accuracy: 1.0000 - val_loss: 12544.4832 - val_accuracy: 0.0980\n",
      "Epoch 13/20\n",
      " - 73s - loss: 0.0000e+00 - accuracy: 1.0000 - val_loss: 12544.5509 - val_accuracy: 0.0980\n",
      "Epoch 14/20\n",
      " - 75s - loss: 0.0000e+00 - accuracy: 1.0000 - val_loss: 12544.6199 - val_accuracy: 0.0980\n",
      "Epoch 15/20\n",
      " - 74s - loss: 0.0000e+00 - accuracy: 1.0000 - val_loss: 12544.6889 - val_accuracy: 0.0980\n",
      "Epoch 16/20\n",
      " - 82s - loss: 0.0000e+00 - accuracy: 1.0000 - val_loss: 12544.7576 - val_accuracy: 0.0980\n",
      "Epoch 17/20\n",
      " - 73s - loss: 0.0000e+00 - accuracy: 1.0000 - val_loss: 12544.8278 - val_accuracy: 0.0980\n",
      "Epoch 18/20\n",
      " - 74s - loss: 0.0000e+00 - accuracy: 1.0000 - val_loss: 12544.8980 - val_accuracy: 0.0980\n",
      "Epoch 19/20\n",
      " - 73s - loss: 0.0000e+00 - accuracy: 1.0000 - val_loss: 12544.9703 - val_accuracy: 0.0980\n",
      "Epoch 20/20\n",
      " - 73s - loss: 0.0000e+00 - accuracy: 1.0000 - val_loss: 12545.0393 - val_accuracy: 0.0980\n"
     ]
    },
    {
     "data": {
      "text/plain": [
       "<keras.callbacks.callbacks.History at 0x209f4a250b8>"
      ]
     },
     "execution_count": 29,
     "metadata": {},
     "output_type": "execute_result"
    }
   ],
   "source": [
    "model.fit(x_train,Y_train,nb_epoch=20, verbose=2, batch_size=16, validation_data=(x_test,Y_test))"
   ]
  },
  {
   "cell_type": "code",
   "execution_count": null,
   "metadata": {},
   "outputs": [],
   "source": []
  }
 ],
 "metadata": {
  "kernelspec": {
   "display_name": "Python 3",
   "language": "python",
   "name": "python3"
  },
  "language_info": {
   "codemirror_mode": {
    "name": "ipython",
    "version": 3
   },
   "file_extension": ".py",
   "mimetype": "text/x-python",
   "name": "python",
   "nbconvert_exporter": "python",
   "pygments_lexer": "ipython3",
   "version": "3.7.3"
  }
 },
 "nbformat": 4,
 "nbformat_minor": 2
}
