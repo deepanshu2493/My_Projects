{
  "nbformat": 4,
  "nbformat_minor": 0,
  "metadata": {
    "colab": {
      "name": "autoencoder_imagecompression_self.ipynb",
      "provenance": [],
      "collapsed_sections": []
    },
    "kernelspec": {
      "name": "python3",
      "display_name": "Python 3"
    }
  },
  "cells": [
    {
      "cell_type": "markdown",
      "metadata": {
        "id": "5_baEteN7K_c",
        "colab_type": "text"
      },
      "source": [
        "# Image Compression using Autoencoders on MNIST dataset "
      ]
    },
    {
      "cell_type": "code",
      "metadata": {
        "id": "wA1hnglIr1kJ",
        "colab_type": "code",
        "colab": {}
      },
      "source": [
        "import numpy as np\n",
        "import matplotlib.pyplot as plt\n",
        "%matplotlib inline"
      ],
      "execution_count": 0,
      "outputs": []
    },
    {
      "cell_type": "code",
      "metadata": {
        "id": "LA-lG4VjsA65",
        "colab_type": "code",
        "colab": {}
      },
      "source": [
        "from keras.layers import Dense,Input\n",
        "from keras.models import Model"
      ],
      "execution_count": 0,
      "outputs": []
    },
    {
      "cell_type": "code",
      "metadata": {
        "id": "yFOzhmaisNtC",
        "colab_type": "code",
        "colab": {}
      },
      "source": [
        "input_img=Input(shape=(784,))\n",
        "encoded=Dense(32, activation='sigmoid')(input_img)\n",
        "#a=encoded.shape\n",
        "decoded=Dense(784, activation='sigmoid')(encoded)"
      ],
      "execution_count": 0,
      "outputs": []
    },
    {
      "cell_type": "code",
      "metadata": {
        "id": "o1sM5VK1sP2X",
        "colab_type": "code",
        "colab": {}
      },
      "source": [
        "autoencoder=Model(input_img, decoded)"
      ],
      "execution_count": 0,
      "outputs": []
    },
    {
      "cell_type": "code",
      "metadata": {
        "id": "s9d1o-5qsQDt",
        "colab_type": "code",
        "colab": {}
      },
      "source": [
        "autoencoder.compile(loss='binary_crossentropy', optimizer='adadelta')"
      ],
      "execution_count": 0,
      "outputs": []
    },
    {
      "cell_type": "code",
      "metadata": {
        "id": "9CNfOgAesQIR",
        "colab_type": "code",
        "colab": {}
      },
      "source": [
        "from keras.datasets import mnist"
      ],
      "execution_count": 0,
      "outputs": []
    },
    {
      "cell_type": "code",
      "metadata": {
        "id": "YypxdHOosQNO",
        "colab_type": "code",
        "outputId": "767bad27-c947-459b-ceec-6e414a68b42c",
        "colab": {
          "base_uri": "https://localhost:8080/",
          "height": 51
        }
      },
      "source": [
        "(x_train,_),(x_test,_)=mnist.load_data()"
      ],
      "execution_count": 0,
      "outputs": [
        {
          "output_type": "stream",
          "text": [
            "Downloading data from https://s3.amazonaws.com/img-datasets/mnist.npz\n",
            "11493376/11490434 [==============================] - 1s 0us/step\n"
          ],
          "name": "stdout"
        }
      ]
    },
    {
      "cell_type": "code",
      "metadata": {
        "id": "N0v0TvLesQa4",
        "colab_type": "code",
        "outputId": "b7a578e7-1e3e-4acc-e398-04763092b13e",
        "colab": {
          "base_uri": "https://localhost:8080/",
          "height": 34
        }
      },
      "source": [
        "x_train.shape"
      ],
      "execution_count": 0,
      "outputs": [
        {
          "output_type": "execute_result",
          "data": {
            "text/plain": [
              "(60000, 28, 28)"
            ]
          },
          "metadata": {
            "tags": []
          },
          "execution_count": 16
        }
      ]
    },
    {
      "cell_type": "code",
      "metadata": {
        "id": "s6rR1ig9sQHF",
        "colab_type": "code",
        "colab": {}
      },
      "source": [
        "x_train=x_train.astype('float32')/255\n",
        "x_test=x_test.astype('float32')/255"
      ],
      "execution_count": 0,
      "outputs": []
    },
    {
      "cell_type": "code",
      "metadata": {
        "id": "r1FcKNtUsQFu",
        "colab_type": "code",
        "outputId": "e35df757-4be4-4288-ddaf-036cab45a505",
        "colab": {
          "base_uri": "https://localhost:8080/",
          "height": 34
        }
      },
      "source": [
        "x_train.shape"
      ],
      "execution_count": 0,
      "outputs": [
        {
          "output_type": "execute_result",
          "data": {
            "text/plain": [
              "(60000, 28, 28)"
            ]
          },
          "metadata": {
            "tags": []
          },
          "execution_count": 18
        }
      ]
    },
    {
      "cell_type": "code",
      "metadata": {
        "id": "rQKvvNUsuOKO",
        "colab_type": "code",
        "colab": {}
      },
      "source": [
        "x_train=x_train.reshape(-1,28*28)\n",
        "x_test=x_test.reshape(-1,28*28)"
      ],
      "execution_count": 0,
      "outputs": []
    },
    {
      "cell_type": "code",
      "metadata": {
        "id": "6C39GcYuuZF9",
        "colab_type": "code",
        "outputId": "ce9563fe-4dc5-42d4-fe98-f96c34b75037",
        "colab": {
          "base_uri": "https://localhost:8080/",
          "height": 34
        }
      },
      "source": [
        "x_train.shape"
      ],
      "execution_count": 0,
      "outputs": [
        {
          "output_type": "execute_result",
          "data": {
            "text/plain": [
              "(60000, 784)"
            ]
          },
          "metadata": {
            "tags": []
          },
          "execution_count": 20
        }
      ]
    },
    {
      "cell_type": "code",
      "metadata": {
        "id": "7u8cSfzAuafW",
        "colab_type": "code",
        "outputId": "f841edf5-d4c0-4178-d086-9276768d7901",
        "colab": {
          "base_uri": "https://localhost:8080/",
          "height": 34
        }
      },
      "source": [
        "x_test.shape"
      ],
      "execution_count": 0,
      "outputs": [
        {
          "output_type": "execute_result",
          "data": {
            "text/plain": [
              "(10000, 784)"
            ]
          },
          "metadata": {
            "tags": []
          },
          "execution_count": 21
        }
      ]
    },
    {
      "cell_type": "code",
      "metadata": {
        "id": "079K444Cuceo",
        "colab_type": "code",
        "outputId": "9a0ad1a9-f9ae-4039-a126-24caa6b44f47",
        "colab": {
          "base_uri": "https://localhost:8080/",
          "height": 683
        }
      },
      "source": [
        "autoencoder.fit(x_train,x_train,epochs=10,batch_size=256,shuffle=True,validation_data=(x_test,x_test))"
      ],
      "execution_count": 0,
      "outputs": [
        {
          "output_type": "stream",
          "text": [
            "WARNING:tensorflow:From /usr/local/lib/python3.6/dist-packages/keras/backend/tensorflow_backend.py:1033: The name tf.assign_add is deprecated. Please use tf.compat.v1.assign_add instead.\n",
            "\n",
            "WARNING:tensorflow:From /usr/local/lib/python3.6/dist-packages/keras/backend/tensorflow_backend.py:1020: The name tf.assign is deprecated. Please use tf.compat.v1.assign instead.\n",
            "\n",
            "WARNING:tensorflow:From /usr/local/lib/python3.6/dist-packages/keras/backend/tensorflow_backend.py:3005: The name tf.Session is deprecated. Please use tf.compat.v1.Session instead.\n",
            "\n",
            "Train on 60000 samples, validate on 10000 samples\n",
            "Epoch 1/10\n",
            "WARNING:tensorflow:From /usr/local/lib/python3.6/dist-packages/keras/backend/tensorflow_backend.py:190: The name tf.get_default_session is deprecated. Please use tf.compat.v1.get_default_session instead.\n",
            "\n",
            "WARNING:tensorflow:From /usr/local/lib/python3.6/dist-packages/keras/backend/tensorflow_backend.py:197: The name tf.ConfigProto is deprecated. Please use tf.compat.v1.ConfigProto instead.\n",
            "\n",
            "WARNING:tensorflow:From /usr/local/lib/python3.6/dist-packages/keras/backend/tensorflow_backend.py:207: The name tf.global_variables is deprecated. Please use tf.compat.v1.global_variables instead.\n",
            "\n",
            "WARNING:tensorflow:From /usr/local/lib/python3.6/dist-packages/keras/backend/tensorflow_backend.py:216: The name tf.is_variable_initialized is deprecated. Please use tf.compat.v1.is_variable_initialized instead.\n",
            "\n",
            "WARNING:tensorflow:From /usr/local/lib/python3.6/dist-packages/keras/backend/tensorflow_backend.py:223: The name tf.variables_initializer is deprecated. Please use tf.compat.v1.variables_initializer instead.\n",
            "\n",
            "60000/60000 [==============================] - 4s 71us/step - loss: 0.4644 - val_loss: 0.3303\n",
            "Epoch 2/10\n",
            "60000/60000 [==============================] - 3s 57us/step - loss: 0.3050 - val_loss: 0.2899\n",
            "Epoch 3/10\n",
            "60000/60000 [==============================] - 3s 57us/step - loss: 0.2837 - val_loss: 0.2789\n",
            "Epoch 4/10\n",
            "60000/60000 [==============================] - 3s 58us/step - loss: 0.2764 - val_loss: 0.2740\n",
            "Epoch 5/10\n",
            "60000/60000 [==============================] - 3s 57us/step - loss: 0.2727 - val_loss: 0.2712\n",
            "Epoch 6/10\n",
            "60000/60000 [==============================] - 3s 56us/step - loss: 0.2705 - val_loss: 0.2695\n",
            "Epoch 7/10\n",
            "60000/60000 [==============================] - 3s 57us/step - loss: 0.2691 - val_loss: 0.2683\n",
            "Epoch 8/10\n",
            "60000/60000 [==============================] - 3s 56us/step - loss: 0.2681 - val_loss: 0.2675\n",
            "Epoch 9/10\n",
            "60000/60000 [==============================] - 3s 57us/step - loss: 0.2674 - val_loss: 0.2668\n",
            "Epoch 10/10\n",
            "60000/60000 [==============================] - 3s 57us/step - loss: 0.2668 - val_loss: 0.2663\n"
          ],
          "name": "stdout"
        },
        {
          "output_type": "execute_result",
          "data": {
            "text/plain": [
              "<keras.callbacks.History at 0x7ff00d7459e8>"
            ]
          },
          "metadata": {
            "tags": []
          },
          "execution_count": 22
        }
      ]
    },
    {
      "cell_type": "code",
      "metadata": {
        "id": "RQRMVOasvRn-",
        "colab_type": "code",
        "colab": {}
      },
      "source": [
        "encoder=Model(input_img,encoded)\n",
        "encoded_input=Input(shape=(32,))\n",
        "decoder_layer=autoencoder.layers[-1]\n",
        "decoder=Model(encoded_input,decoder_layer(encoded_input))"
      ],
      "execution_count": 0,
      "outputs": []
    },
    {
      "cell_type": "code",
      "metadata": {
        "id": "xdwY5j4gwYM3",
        "colab_type": "code",
        "colab": {}
      },
      "source": [
        "encoded_imgs=encoder.predict(x_test)\n",
        "decoded_imgs=decoder.predict(encoded_imgs)"
      ],
      "execution_count": 0,
      "outputs": []
    },
    {
      "cell_type": "code",
      "metadata": {
        "id": "y_nKJwo1xhwy",
        "colab_type": "code",
        "outputId": "ea648789-f5d2-460a-bf7b-d802980a3221",
        "colab": {
          "base_uri": "https://localhost:8080/",
          "height": 244
        }
      },
      "source": [
        "import matplotlib.pyplot as plt\n",
        "n = 10  # how many digits we will display\n",
        "plt.figure(figsize=(20, 4))\n",
        "for i in range(n):\n",
        "    # display original\n",
        "    ax = plt.subplot(2, n, i + 1)\n",
        "    plt.imshow(x_test[i].reshape(28, 28))\n",
        "    plt.gray()\n",
        "    ax.get_xaxis().set_visible(False)\n",
        "    ax.get_yaxis().set_visible(False)\n",
        "\n",
        "    # display reconstruction\n",
        "    ax = plt.subplot(2, n, i + 1 + n)\n",
        "    plt.imshow(decoded_imgs[i].reshape(28, 28))\n",
        "    plt.gray()\n",
        "    ax.get_xaxis().set_visible(False)\n",
        "    ax.get_yaxis().set_visible(False)\n",
        "plt.show()"
      ],
      "execution_count": 0,
      "outputs": [
        {
          "output_type": "display_data",
          "data": {
            "image/png": "[encoded data removed]",
            "text/plain": [
              "<Figure size 1440x288 with 20 Axes>"
            ]
          },
          "metadata": {
            "tags": []
          }
        }
      ]
    },
    {
      "cell_type": "code",
      "metadata": {
        "id": "fexpfbis9MgD",
        "colab_type": "code",
        "colab": {}
      },
      "source": [
        ""
      ],
      "execution_count": 0,
      "outputs": []
    },
    {
      "cell_type": "code",
      "metadata": {
        "id": "vHSx6WMS9Mxr",
        "colab_type": "code",
        "colab": {}
      },
      "source": [
        "#Deep autoencoder"
      ],
      "execution_count": 0,
      "outputs": []
    },
    {
      "cell_type": "code",
      "metadata": {
        "id": "u-jhymLP9M8w",
        "colab_type": "code",
        "colab": {}
      },
      "source": [
        "input_image=Input(shape=(784,))\n",
        "encoded=Dense(128, activation='relu')(input_image)\n",
        "encoded=Dense(64, activation='relu')(encoded)\n",
        "encoded=Dense(32, activation='relu')(encoded)\n",
        "\n",
        "decoded=Dense(64, activation='relu')(encoded)\n",
        "decoded=Dense(128, activation='relu')(decoded)\n",
        "decoded=Dense(784, activation='sigmoid')(decoded)\n",
        "\n",
        "\n"
      ],
      "execution_count": 0,
      "outputs": []
    },
    {
      "cell_type": "code",
      "metadata": {
        "id": "8Xq5VY-C9NOT",
        "colab_type": "code",
        "colab": {}
      },
      "source": [
        "autoencoder=Model(input_image, decoded)\n",
        "autoencoder.compile(optimizer='adadelta',loss='binary_crossentropy')"
      ],
      "execution_count": 0,
      "outputs": []
    },
    {
      "cell_type": "code",
      "metadata": {
        "id": "uiwRNbHe9NIg",
        "colab_type": "code",
        "outputId": "09c6b5ad-2635-485d-9a81-c86ea48d7a7a",
        "colab": {
          "base_uri": "https://localhost:8080/",
          "height": 1000
        }
      },
      "source": [
        "autoencoder.fit(x_train,x_train,epochs=100,shuffle=True, batch_size=256, validation_data=(x_test,x_test))"
      ],
      "execution_count": 0,
      "outputs": [
        {
          "output_type": "stream",
          "text": [
            "Train on 60000 samples, validate on 10000 samples\n",
            "Epoch 1/100\n",
            "60000/60000 [==============================] - 5s 90us/step - loss: 0.3262 - val_loss: 0.2636\n",
            "Epoch 2/100\n",
            "60000/60000 [==============================] - 5s 83us/step - loss: 0.2568 - val_loss: 0.2482\n",
            "Epoch 3/100\n",
            "60000/60000 [==============================] - 5s 82us/step - loss: 0.2378 - val_loss: 0.2280\n",
            "Epoch 4/100\n",
            "60000/60000 [==============================] - 5s 83us/step - loss: 0.2242 - val_loss: 0.2169\n",
            "Epoch 5/100\n",
            "60000/60000 [==============================] - 5s 83us/step - loss: 0.2091 - val_loss: 0.1982\n",
            "Epoch 6/100\n",
            "60000/60000 [==============================] - 5s 83us/step - loss: 0.1938 - val_loss: 0.1871\n",
            "Epoch 7/100\n",
            "60000/60000 [==============================] - 5s 85us/step - loss: 0.1874 - val_loss: 0.1849\n",
            "Epoch 8/100\n",
            "60000/60000 [==============================] - 5s 84us/step - loss: 0.1832 - val_loss: 0.1800\n",
            "Epoch 9/100\n",
            "60000/60000 [==============================] - 5s 84us/step - loss: 1.6528 - val_loss: 0.6827\n",
            "Epoch 10/100\n",
            "60000/60000 [==============================] - 5s 83us/step - loss: 0.6609 - val_loss: 0.6396\n",
            "Epoch 11/100\n",
            "60000/60000 [==============================] - 5s 84us/step - loss: 0.6200 - val_loss: 0.6013\n",
            "Epoch 12/100\n",
            "60000/60000 [==============================] - 5s 83us/step - loss: 0.5844 - val_loss: 0.5683\n",
            "Epoch 13/100\n",
            "60000/60000 [==============================] - 5s 85us/step - loss: 0.5536 - val_loss: 0.5397\n",
            "Epoch 14/100\n",
            "60000/60000 [==============================] - 5s 85us/step - loss: 0.5269 - val_loss: 0.5148\n",
            "Epoch 15/100\n",
            "60000/60000 [==============================] - 5s 84us/step - loss: 0.5037 - val_loss: 0.4932\n",
            "Epoch 16/100\n",
            "60000/60000 [==============================] - 5s 85us/step - loss: 0.4834 - val_loss: 0.4742\n",
            "Epoch 17/100\n",
            "60000/60000 [==============================] - 5s 85us/step - loss: 0.4656 - val_loss: 0.4575\n",
            "Epoch 18/100\n",
            "60000/60000 [==============================] - 5s 86us/step - loss: 0.4499 - val_loss: 0.4428\n",
            "Epoch 19/100\n",
            "60000/60000 [==============================] - 5s 85us/step - loss: 0.4360 - val_loss: 0.4298\n",
            "Epoch 20/100\n",
            "60000/60000 [==============================] - 5s 85us/step - loss: 0.4237 - val_loss: 0.4182\n",
            "Epoch 21/100\n",
            "60000/60000 [==============================] - 5s 85us/step - loss: 0.4127 - val_loss: 0.4078\n",
            "Epoch 22/100\n",
            "60000/60000 [==============================] - 5s 86us/step - loss: 0.4029 - val_loss: 0.3985\n",
            "Epoch 23/100\n",
            "60000/60000 [==============================] - 5s 84us/step - loss: 0.3941 - val_loss: 0.3901\n",
            "Epoch 24/100\n",
            "60000/60000 [==============================] - 5s 84us/step - loss: 0.3861 - val_loss: 0.3826\n",
            "Epoch 25/100\n",
            "60000/60000 [==============================] - 5s 84us/step - loss: 0.3789 - val_loss: 0.3757\n",
            "Epoch 26/100\n",
            "60000/60000 [==============================] - 5s 86us/step - loss: 0.3724 - val_loss: 0.3695\n",
            "Epoch 27/100\n",
            "60000/60000 [==============================] - 5s 86us/step - loss: 0.3664 - val_loss: 0.3638\n",
            "Epoch 28/100\n",
            "60000/60000 [==============================] - 5s 86us/step - loss: 0.3610 - val_loss: 0.3586\n",
            "Epoch 29/100\n",
            "60000/60000 [==============================] - 5s 85us/step - loss: 0.3561 - val_loss: 0.3539\n",
            "Epoch 30/100\n",
            "60000/60000 [==============================] - 5s 83us/step - loss: 0.3515 - val_loss: 0.3495\n",
            "Epoch 31/100\n",
            "60000/60000 [==============================] - 5s 84us/step - loss: 0.3473 - val_loss: 0.3455\n",
            "Epoch 32/100\n",
            "60000/60000 [==============================] - 5s 84us/step - loss: 0.3434 - val_loss: 0.3418\n",
            "Epoch 33/100\n",
            "60000/60000 [==============================] - 5s 83us/step - loss: 0.3398 - val_loss: 0.3383\n",
            "Epoch 34/100\n",
            "60000/60000 [==============================] - 5s 84us/step - loss: 0.3365 - val_loss: 0.3351\n",
            "Epoch 35/100\n",
            "60000/60000 [==============================] - 5s 84us/step - loss: 0.3335 - val_loss: 0.3322\n",
            "Epoch 36/100\n",
            "60000/60000 [==============================] - 5s 83us/step - loss: 0.3306 - val_loss: 0.3294\n",
            "Epoch 37/100\n",
            "60000/60000 [==============================] - 5s 83us/step - loss: 0.3279 - val_loss: 0.3268\n",
            "Epoch 38/100\n",
            "60000/60000 [==============================] - 5s 83us/step - loss: 0.3254 - val_loss: 0.3244\n",
            "Epoch 39/100\n",
            "60000/60000 [==============================] - 5s 86us/step - loss: 0.3231 - val_loss: 0.3221\n",
            "Epoch 40/100\n",
            "60000/60000 [==============================] - 5s 84us/step - loss: 0.3209 - val_loss: 0.3200\n",
            "Epoch 41/100\n",
            "60000/60000 [==============================] - 5s 84us/step - loss: 0.3189 - val_loss: 0.3180\n",
            "Epoch 42/100\n",
            "60000/60000 [==============================] - 5s 85us/step - loss: 0.3169 - val_loss: 0.3162\n",
            "Epoch 43/100\n",
            "60000/60000 [==============================] - 5s 85us/step - loss: 0.3151 - val_loss: 0.3144\n",
            "Epoch 44/100\n",
            "60000/60000 [==============================] - 5s 85us/step - loss: 0.3134 - val_loss: 0.3127\n",
            "Epoch 45/100\n",
            "60000/60000 [==============================] - 5s 85us/step - loss: 0.3118 - val_loss: 0.3112\n",
            "Epoch 46/100\n",
            "60000/60000 [==============================] - 5s 87us/step - loss: 0.3103 - val_loss: 0.3097\n",
            "Epoch 47/100\n",
            "60000/60000 [==============================] - 5s 86us/step - loss: 0.3088 - val_loss: 0.3083\n",
            "Epoch 48/100\n",
            "60000/60000 [==============================] - 5s 84us/step - loss: 0.3075 - val_loss: 0.3069\n",
            "Epoch 49/100\n",
            "60000/60000 [==============================] - 5s 85us/step - loss: 0.3062 - val_loss: 0.3057\n",
            "Epoch 50/100\n",
            "60000/60000 [==============================] - 5s 84us/step - loss: 0.3049 - val_loss: 0.3045\n",
            "Epoch 51/100\n",
            "60000/60000 [==============================] - 5s 84us/step - loss: 0.3038 - val_loss: 0.3033\n",
            "Epoch 52/100\n",
            "60000/60000 [==============================] - 5s 83us/step - loss: 0.3027 - val_loss: 0.3022\n",
            "Epoch 53/100\n",
            "60000/60000 [==============================] - 5s 83us/step - loss: 0.3016 - val_loss: 0.3012\n",
            "Epoch 54/100\n",
            "60000/60000 [==============================] - 5s 85us/step - loss: 0.3006 - val_loss: 0.3002\n",
            "Epoch 55/100\n",
            "60000/60000 [==============================] - 5s 83us/step - loss: 0.2996 - val_loss: 0.2993\n",
            "Epoch 56/100\n",
            "60000/60000 [==============================] - 5s 82us/step - loss: 0.2987 - val_loss: 0.2983\n",
            "Epoch 57/100\n",
            "60000/60000 [==============================] - 5s 82us/step - loss: 0.2978 - val_loss: 0.2975\n",
            "Epoch 58/100\n",
            "60000/60000 [==============================] - 5s 83us/step - loss: 0.2970 - val_loss: 0.2966\n",
            "Epoch 59/100\n",
            "60000/60000 [==============================] - 5s 83us/step - loss: 0.2962 - val_loss: 0.2959\n",
            "Epoch 60/100\n",
            "60000/60000 [==============================] - 5s 84us/step - loss: 0.2954 - val_loss: 0.2951\n",
            "Epoch 61/100\n",
            "60000/60000 [==============================] - 5s 82us/step - loss: 0.2946 - val_loss: 0.2944\n",
            "Epoch 62/100\n",
            "60000/60000 [==============================] - 5s 83us/step - loss: 0.2939 - val_loss: 0.2937\n",
            "Epoch 63/100\n",
            "60000/60000 [==============================] - 5s 82us/step - loss: 0.2933 - val_loss: 0.2930\n",
            "Epoch 64/100\n",
            "60000/60000 [==============================] - 5s 82us/step - loss: 0.2926 - val_loss: 0.2923\n",
            "Epoch 65/100\n",
            "60000/60000 [==============================] - 5s 83us/step - loss: 0.2920 - val_loss: 0.2917\n",
            "Epoch 66/100\n",
            "60000/60000 [==============================] - 5s 83us/step - loss: 0.2913 - val_loss: 0.2911\n",
            "Epoch 67/100\n",
            "60000/60000 [==============================] - 5s 84us/step - loss: 0.2908 - val_loss: 0.2905\n",
            "Epoch 68/100\n",
            "60000/60000 [==============================] - 5s 82us/step - loss: 0.2902 - val_loss: 0.2900\n",
            "Epoch 69/100\n",
            "60000/60000 [==============================] - 5s 82us/step - loss: 0.2897 - val_loss: 0.2894\n",
            "Epoch 70/100\n",
            "60000/60000 [==============================] - 5s 83us/step - loss: 0.2891 - val_loss: 0.2889\n",
            "Epoch 71/100\n",
            "60000/60000 [==============================] - 5s 83us/step - loss: 0.2886 - val_loss: 0.2884\n",
            "Epoch 72/100\n",
            "60000/60000 [==============================] - 5s 83us/step - loss: 0.2881 - val_loss: 0.2879\n",
            "Epoch 73/100\n",
            "60000/60000 [==============================] - 5s 85us/step - loss: 0.2877 - val_loss: 0.2875\n",
            "Epoch 74/100\n",
            "60000/60000 [==============================] - 5s 83us/step - loss: 0.2872 - val_loss: 0.2870\n",
            "Epoch 75/100\n",
            "60000/60000 [==============================] - 5s 83us/step - loss: 0.2868 - val_loss: 0.2866\n",
            "Epoch 76/100\n",
            "60000/60000 [==============================] - 5s 83us/step - loss: 0.2863 - val_loss: 0.2861\n",
            "Epoch 77/100\n",
            "60000/60000 [==============================] - 5s 82us/step - loss: 0.2859 - val_loss: 0.2857\n",
            "Epoch 78/100\n",
            "60000/60000 [==============================] - 5s 82us/step - loss: 0.2855 - val_loss: 0.2853\n",
            "Epoch 79/100\n",
            "60000/60000 [==============================] - 5s 84us/step - loss: 0.2851 - val_loss: 0.2849\n",
            "Epoch 80/100\n",
            "60000/60000 [==============================] - 5s 82us/step - loss: 0.2847 - val_loss: 0.2846\n",
            "Epoch 81/100\n",
            "60000/60000 [==============================] - 5s 82us/step - loss: 0.2844 - val_loss: 0.2842\n",
            "Epoch 82/100\n",
            "60000/60000 [==============================] - 5s 83us/step - loss: 0.2840 - val_loss: 0.2839\n",
            "Epoch 83/100\n",
            "60000/60000 [==============================] - 5s 83us/step - loss: 0.2837 - val_loss: 0.2835\n",
            "Epoch 84/100\n",
            "60000/60000 [==============================] - 5s 83us/step - loss: 0.2833 - val_loss: 0.2832\n",
            "Epoch 85/100\n",
            "60000/60000 [==============================] - 5s 82us/step - loss: 0.2830 - val_loss: 0.2829\n",
            "Epoch 86/100\n",
            "60000/60000 [==============================] - 5s 83us/step - loss: 0.2827 - val_loss: 0.2825\n",
            "Epoch 87/100\n",
            "60000/60000 [==============================] - 5s 82us/step - loss: 0.2824 - val_loss: 0.2822\n",
            "Epoch 88/100\n",
            "60000/60000 [==============================] - 5s 84us/step - loss: 0.2821 - val_loss: 0.2819\n",
            "Epoch 89/100\n",
            "60000/60000 [==============================] - 5s 86us/step - loss: 0.2818 - val_loss: 0.2817\n",
            "Epoch 90/100\n",
            "60000/60000 [==============================] - 5s 86us/step - loss: 0.2815 - val_loss: 0.2814\n",
            "Epoch 91/100\n",
            "60000/60000 [==============================] - 5s 84us/step - loss: 0.2813 - val_loss: 0.2811\n",
            "Epoch 92/100\n",
            "60000/60000 [==============================] - 5s 84us/step - loss: 0.2810 - val_loss: 0.2808\n",
            "Epoch 93/100\n",
            "60000/60000 [==============================] - 5s 84us/step - loss: 0.2807 - val_loss: 0.2806\n",
            "Epoch 94/100\n",
            "60000/60000 [==============================] - 5s 84us/step - loss: 0.2805 - val_loss: 0.2803\n",
            "Epoch 95/100\n",
            "60000/60000 [==============================] - 5s 84us/step - loss: 0.2802 - val_loss: 0.2801\n",
            "Epoch 96/100\n",
            "60000/60000 [==============================] - 5s 83us/step - loss: 0.2800 - val_loss: 0.2798\n",
            "Epoch 97/100\n",
            "60000/60000 [==============================] - 5s 84us/step - loss: 0.2797 - val_loss: 0.2796\n",
            "Epoch 98/100\n",
            "60000/60000 [==============================] - 5s 83us/step - loss: 0.2795 - val_loss: 0.2794\n",
            "Epoch 99/100\n",
            "60000/60000 [==============================] - 5s 83us/step - loss: 0.2793 - val_loss: 0.2791\n",
            "Epoch 100/100\n",
            "60000/60000 [==============================] - 5s 85us/step - loss: 0.2791 - val_loss: 0.2789\n"
          ],
          "name": "stdout"
        },
        {
          "output_type": "execute_result",
          "data": {
            "text/plain": [
              "<keras.callbacks.History at 0x7ff00d233b70>"
            ]
          },
          "metadata": {
            "tags": []
          },
          "execution_count": 29
        }
      ]
    },
    {
      "cell_type": "code",
      "metadata": {
        "id": "MJEfiYTc9NCL",
        "colab_type": "code",
        "colab": {}
      },
      "source": [
        "decoded_imgs = autoencoder.predict(x_test)"
      ],
      "execution_count": 0,
      "outputs": []
    },
    {
      "cell_type": "code",
      "metadata": {
        "id": "G8GcEtQz9M7U",
        "colab_type": "code",
        "outputId": "615b5549-2df4-4f40-d0a3-12b1a4467924",
        "colab": {
          "base_uri": "https://localhost:8080/",
          "height": 244
        }
      },
      "source": [
        "import matplotlib.pyplot as plt\n",
        "n = 10  # how many digits we will display\n",
        "plt.figure(figsize=(20, 4))\n",
        "for i in range(n):\n",
        "    # display original\n",
        "    ax = plt.subplot(2, n, i + 1)\n",
        "    plt.imshow(x_test[i].reshape(28, 28))\n",
        "    plt.gray()\n",
        "    ax.get_xaxis().set_visible(False)\n",
        "    ax.get_yaxis().set_visible(False)\n",
        "\n",
        "    # display reconstruction\n",
        "    ax = plt.subplot(2, n, i + 1 + n)\n",
        "    plt.imshow(decoded_imgs[i].reshape(28, 28))\n",
        "    plt.gray()\n",
        "    ax.get_xaxis().set_visible(False)\n",
        "    ax.get_yaxis().set_visible(False)\n",
        "plt.show()"
      ],
      "execution_count": 0,
      "outputs": [
        {
          "output_type": "display_data",
          "data": {
            "image/png": "[encoded data removed]",
            "text/plain": [
              "<Figure size 1440x288 with 20 Axes>"
            ]
          },
          "metadata": {
            "tags": []
          }
        }
      ]
    },
    {
      "cell_type": "code",
      "metadata": {
        "id": "d4xrETVZPrJs",
        "colab_type": "code",
        "outputId": "9330c92a-b50a-440c-d1cb-e25cf27d3466",
        "colab": {
          "base_uri": "https://localhost:8080/",
          "height": 34
        }
      },
      "source": [
        "x_train.shape"
      ],
      "execution_count": 0,
      "outputs": [
        {
          "output_type": "execute_result",
          "data": {
            "text/plain": [
              "(60000, 784)"
            ]
          },
          "metadata": {
            "tags": []
          },
          "execution_count": 38
        }
      ]
    },
    {
      "cell_type": "code",
      "metadata": {
        "id": "ADlYHdCGP9Yo",
        "colab_type": "code",
        "colab": {}
      },
      "source": [
        ""
      ],
      "execution_count": 0,
      "outputs": []
    },
    {
      "cell_type": "code",
      "metadata": {
        "id": "_qu3vOjYPs9k",
        "colab_type": "code",
        "colab": {}
      },
      "source": [
        ""
      ],
      "execution_count": 0,
      "outputs": []
    }
  ]
}