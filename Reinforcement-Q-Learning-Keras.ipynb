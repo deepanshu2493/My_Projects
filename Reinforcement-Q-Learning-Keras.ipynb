{
 "cells": [
  {
   "cell_type": "code",
   "execution_count": null,
   "metadata": {},
   "outputs": [],
   "source": [
    "# these networks are called DQN(deep Q- networks)"
   ]
  },
  {
   "cell_type": "code",
   "execution_count": null,
   "metadata": {},
   "outputs": [],
   "source": [
    "# we are doing cart prblem discrete type"
   ]
  },
  {
   "cell_type": "code",
   "execution_count": 1,
   "metadata": {},
   "outputs": [],
   "source": [
    "import random\n",
    "import gym\n",
    "import numpy as np"
   ]
  },
  {
   "cell_type": "code",
   "execution_count": 2,
   "metadata": {},
   "outputs": [
    {
     "name": "stderr",
     "output_type": "stream",
     "text": [
      "Using TensorFlow backend.\n"
     ]
    }
   ],
   "source": [
    "from keras.models import Sequential\n",
    "from keras.layers import Dense\n",
    "from keras.optimizers import Adam"
   ]
  },
  {
   "cell_type": "code",
   "execution_count": 3,
   "metadata": {},
   "outputs": [],
   "source": [
    "from collections import deque # used for experience-replay"
   ]
  },
  {
   "cell_type": "code",
   "execution_count": null,
   "metadata": {},
   "outputs": [],
   "source": [
    "#agent is a player whicg takes action"
   ]
  },
  {
   "cell_type": "code",
   "execution_count": null,
   "metadata": {},
   "outputs": [],
   "source": []
  },
  {
   "cell_type": "code",
   "execution_count": 5,
   "metadata": {},
   "outputs": [],
   "source": [
    "class DQNAgent:\n",
    "    \n",
    "    def __init__(self, state_size, action_size):\n",
    "        self.state_size=state_size\n",
    "        self.action_size=action_size\n",
    "        self.gamma=0.95     # discount factor\n",
    "        self.epsilon=1.0   # we are not following q table initially we are taking random paths\n",
    "        self.epsilon_decay=0.995  # at what rate we are decresung epsilon value so that it follows q table\n",
    "        self.epsilon_min=0.01  # epsilon should not go beyond this value\n",
    "        self.learning_rate=0.001\n",
    "        self.memory=deque(maxlen=2000)\n",
    "        self.model=self.build_model()  # build model is when called it return into model\n",
    "        \n",
    "    def build_model(self):\n",
    "        model=Sequential()\n",
    "        model.add(Dense(24, input_dim=self.state_size, activation='relu'))\n",
    "        model.add(Dense(24, activation='relu'))\n",
    "        model.add(Dense(self.action_size, activation='linear'))\n",
    "        model.compile(loss='mse',optimizer=Adam(lr=self.learning_rate))\n",
    "        return model\n",
    "        \n",
    "    def act(self,state):\n",
    "        if np.random.rand()<= self.epsilon:\n",
    "            return random.randrange(self.action_size)\n",
    "        act_values=self.model.predict(state)  # gives predicted q values\n",
    "        return np.argmax(act_values[0]) # this returns index of max q value i.e index of action to be taken\n",
    "        \n",
    "    def remember(self, state,action, reward, next_state, done):\n",
    "        self.memory.append((state,action, reward, next_state, done))\n",
    "        \n",
    "    def replay(self, batch_size):  # batch_size means kitne expreiences pe retrain karna hain\n",
    "        minibatch=random.sample(self.memory, batch_size)\n",
    "        for (state,action, reward, next_state, done) in minibatch:\n",
    "            target=reward\n",
    "            if not done:\n",
    "                target += self.gamma* np.amax(self.model.predict(next_state)[0]) #max and amax are same max basically calls max\n",
    "            target_matrix=self.model.predict(state)\n",
    "            target_matrix[0][action]=target\n",
    "            self.model.fit(state, target_matrix, epochs=1, verbose=0)\n",
    "        if self.epsilon>self.epsilon_min:\n",
    "            self.epsilon*=self.epsilon_decay"
   ]
  },
  {
   "cell_type": "code",
   "execution_count": 7,
   "metadata": {},
   "outputs": [
    {
     "name": "stdout",
     "output_type": "stream",
     "text": [
      "Episode:0/50 Time:17 Explore:1.0\n",
      "Episode:1/50 Time:10 Explore:1.0\n",
      "Episode:2/50 Time:24 Explore:0.9000874278732445\n",
      "Episode:3/50 Time:15 Explore:0.8348931673187264\n",
      "Episode:4/50 Time:30 Explore:0.7183288830986236\n",
      "Episode:5/50 Time:12 Explore:0.6763948591909945\n",
      "Episode:6/50 Time:14 Explore:0.6305556603555866\n",
      "Episode:7/50 Time:13 Explore:0.5907768628656763\n",
      "Episode:8/50 Time:13 Explore:0.5535075230322891\n",
      "Episode:9/50 Time:12 Explore:0.5211953074858876\n",
      "Episode:10/50 Time:34 Explore:0.43952667968844233\n",
      "Episode:11/50 Time:28 Explore:0.3819719776053028\n",
      "Episode:12/50 Time:27 Explore:0.33362200135903064\n",
      "Episode:13/50 Time:127 Explore:0.17651675623376062\n",
      "Episode:14/50 Time:45 Explore:0.14087196468590776\n",
      "Episode:15/50 Time:45 Explore:0.11242507996344034\n",
      "Episode:16/50 Time:37 Explore:0.09339361644125409\n",
      "Episode:17/50 Time:54 Explore:0.0712465030521374\n",
      "Episode:18/50 Time:47 Explore:0.056292216338080694\n",
      "Episode:19/50 Time:62 Explore:0.04125526245077418\n",
      "Episode:20/50 Time:43 Explore:0.03325613897196732\n",
      "Episode:21/50 Time:34 Explore:0.0280450728002803\n",
      "Episode:22/50 Time:53 Explore:0.021502049198442223\n",
      "Episode:23/50 Time:43 Explore:0.017332943577287888\n",
      "Episode:24/50 Time:45 Explore:0.013832827362230486\n",
      "Episode:25/50 Time:34 Explore:0.01166529436067347\n",
      "Episode:26/50 Time:66 Explore:0.00998645168764533\n",
      "Episode:27/50 Time:34 Explore:0.00998645168764533\n",
      "Episode:28/50 Time:39 Explore:0.00998645168764533\n",
      "Episode:29/50 Time:31 Explore:0.00998645168764533\n",
      "Episode:30/50 Time:50 Explore:0.00998645168764533\n",
      "Episode:31/50 Time:45 Explore:0.00998645168764533\n",
      "Episode:32/50 Time:217 Explore:0.00998645168764533\n",
      "Episode:33/50 Time:213 Explore:0.00998645168764533\n",
      "Episode:34/50 Time:264 Explore:0.00998645168764533\n",
      "Episode:35/50 Time:288 Explore:0.00998645168764533\n",
      "Episode:36/50 Time:202 Explore:0.00998645168764533\n",
      "Episode:37/50 Time:167 Explore:0.00998645168764533\n",
      "Episode:38/50 Time:61 Explore:0.00998645168764533\n",
      "Episode:39/50 Time:368 Explore:0.00998645168764533\n",
      "Episode:40/50 Time:9 Explore:0.00998645168764533\n",
      "Episode:41/50 Time:11 Explore:0.00998645168764533\n",
      "Episode:42/50 Time:116 Explore:0.00998645168764533\n",
      "Episode:43/50 Time:499 Explore:0.00998645168764533\n",
      "Episode:44/50 Time:200 Explore:0.00998645168764533\n",
      "Episode:45/50 Time:231 Explore:0.00998645168764533\n",
      "Episode:46/50 Time:169 Explore:0.00998645168764533\n",
      "Episode:47/50 Time:311 Explore:0.00998645168764533\n",
      "Episode:48/50 Time:196 Explore:0.00998645168764533\n",
      "Episode:49/50 Time:269 Explore:0.00998645168764533\n"
     ]
    }
   ],
   "source": [
    "episodes= 50  #for 100 times can try\n",
    "\n",
    "env=gym.make(\"CartPole-v1\")\n",
    "state_size=env.observation_space.shape[0]\n",
    "action_size=env.action_space.n\n",
    "agent=DQNAgent(state_size,action_size)\n",
    "done=False  # starting done is false\n",
    "batch_size= 32  #out of 2000 32 experiences are randomly chosen\n",
    "\n",
    "for e in range(episodes):\n",
    "    state=env.reset()\n",
    "    state=np.reshape(state, [1, state_size])\n",
    "    for time in range(500):\n",
    "        #env.render()\n",
    "        action=agent.act(state)\n",
    "        next_state, reward, done, _ =env.step(action)\n",
    "        reward=reward if not done else -10\n",
    "        next_state=np.reshape(next_state, [1,state_size])\n",
    "        agent.remember(state, action, reward, next_state,done)\n",
    "        state=next_state\n",
    "        if done:\n",
    "            print(f\"Episode:{e}/{episodes} Time:{time} Explore:{agent.epsilon}\")\n",
    "            break\n",
    "        if len(agent.memory) > batch_size:\n",
    "            agent.replay(batch_size)\n",
    "    #env.close()\n",
    "\n",
    " "
   ]
  },
  {
   "cell_type": "code",
   "execution_count": null,
   "metadata": {},
   "outputs": [],
   "source": [
    "#Time tells ki kitne steps baad woh gir jayega"
   ]
  },
  {
   "cell_type": "code",
   "execution_count": null,
   "metadata": {},
   "outputs": [],
   "source": [
    "#keras-rl use for reinforcement learning"
   ]
  }
 ],
 "metadata": {
  "kernelspec": {
   "display_name": "Python 3",
   "language": "python",
   "name": "python3"
  },
  "language_info": {
   "codemirror_mode": {
    "name": "ipython",
    "version": 3
   },
   "file_extension": ".py",
   "mimetype": "text/x-python",
   "name": "python",
   "nbconvert_exporter": "python",
   "pygments_lexer": "ipython3",
   "version": "3.7.3"
  }
 },
 "nbformat": 4,
 "nbformat_minor": 2
}
